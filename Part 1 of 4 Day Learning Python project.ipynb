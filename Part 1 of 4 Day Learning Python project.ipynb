{
 "cells": [
  {
   "cell_type": "markdown",
   "metadata": {},
   "source": [
    "# Personal 4 day Python & Data learning project\n",
    "\n",
    "Data was always something that surrounded my projects at school and work. However it was not until I was asked \"What is your favorite data cleansing technique?\" that I really took a long hard look at how I interacted with data and my true competency with how I looked at data and how I worked with data. With this recognition in mind, I thus set off on a 4 day journey through Python and machine learning with data having had no prior experience. This is by no means the end of the learning journey but a form of inertia to get the ball rolling with my interest in data.\n",
    "\n",
    "The Airbnb data set used was from http://insideairbnb.com/about.html\n",
    "Python tutorials from NYU's data science bootcamp, datacamp.com, and independent online tutorials.\n",
    "\n",
    "During these five days, my objectives are as follows:\n",
    "1. Learn how to apply fundamental python on top of merely knowing the syntax\n",
    "2. Learning about the different packages you could use in Python to deal with data\n",
    "3. Effective ways to clean data and how to justify my choices in dropping/including data\n",
    "4. How to identify relevant and interesting relationships to study\n",
    "5. How to effectively visualize data with Python visualization packages\n",
    "6. (If time allows) to attempt creating a preliminary predictive model"
   ]
  },
  {
   "cell_type": "markdown",
   "metadata": {},
   "source": [
    "## Step 1: importing the necessary packages and importing the data"
   ]
  },
  {
   "cell_type": "code",
   "execution_count": 1,
   "metadata": {},
   "outputs": [
    {
     "name": "stderr",
     "output_type": "stream",
     "text": [
      "/Applications/anaconda3/lib/python3.6/site-packages/statsmodels/compat/pandas.py:56: FutureWarning: The pandas.core.datetools module is deprecated and will be removed in a future version. Please use the pandas.tseries module instead.\n",
      "  from pandas.core import datetools\n"
     ]
    }
   ],
   "source": [
    "import sys\n",
    "import datetime\n",
    "import pandas as pd\n",
    "import matplotlib as ml\n",
    "import matplotlib.pyplot as plt\n",
    "import numpy as np\n",
    "import seaborn as sns\n",
    "import statsmodels.api as sm\n",
    "\n",
    "%matplotlib inline"
   ]
  },
  {
   "cell_type": "markdown",
   "metadata": {},
   "source": [
    "Here we import the csv files with San Francisco Airbnb listings information that was downloaded from insideairbnb.com"
   ]
  },
  {
   "cell_type": "code",
   "execution_count": 2,
   "metadata": {},
   "outputs": [
    {
     "data": {
      "text/html": [
       "<div>\n",
       "<style>\n",
       "    .dataframe thead tr:only-child th {\n",
       "        text-align: right;\n",
       "    }\n",
       "\n",
       "    .dataframe thead th {\n",
       "        text-align: left;\n",
       "    }\n",
       "\n",
       "    .dataframe tbody tr th {\n",
       "        vertical-align: top;\n",
       "    }\n",
       "</style>\n",
       "<table border=\"1\" class=\"dataframe\">\n",
       "  <thead>\n",
       "    <tr style=\"text-align: right;\">\n",
       "      <th></th>\n",
       "      <th>id</th>\n",
       "      <th>listing_url</th>\n",
       "      <th>scrape_id</th>\n",
       "      <th>last_scraped</th>\n",
       "      <th>name</th>\n",
       "      <th>summary</th>\n",
       "      <th>space</th>\n",
       "      <th>description</th>\n",
       "      <th>experiences_offered</th>\n",
       "      <th>neighborhood_overview</th>\n",
       "      <th>...</th>\n",
       "      <th>requires_license</th>\n",
       "      <th>license</th>\n",
       "      <th>jurisdiction_names</th>\n",
       "      <th>instant_bookable</th>\n",
       "      <th>is_business_travel_ready</th>\n",
       "      <th>cancellation_policy</th>\n",
       "      <th>require_guest_profile_picture</th>\n",
       "      <th>require_guest_phone_verification</th>\n",
       "      <th>calculated_host_listings_count</th>\n",
       "      <th>reviews_per_month</th>\n",
       "    </tr>\n",
       "  </thead>\n",
       "  <tbody>\n",
       "    <tr>\n",
       "      <th>0</th>\n",
       "      <td>16570521</td>\n",
       "      <td>https://www.airbnb.com/rooms/16570521</td>\n",
       "      <td>20171002002039</td>\n",
       "      <td>2017-10-02</td>\n",
       "      <td>Lands' End hideaway</td>\n",
       "      <td>Light and airy in-law with dedicated bathroom ...</td>\n",
       "      <td>The room is on the lower level of the house, w...</td>\n",
       "      <td>Light and airy in-law with dedicated bathroom ...</td>\n",
       "      <td>none</td>\n",
       "      <td>The area around Lincoln Park is a residential ...</td>\n",
       "      <td>...</td>\n",
       "      <td>t</td>\n",
       "      <td>STR-0001287</td>\n",
       "      <td>{\"SAN FRANCISCO\"}</td>\n",
       "      <td>f</td>\n",
       "      <td>f</td>\n",
       "      <td>moderate</td>\n",
       "      <td>f</td>\n",
       "      <td>f</td>\n",
       "      <td>2</td>\n",
       "      <td>2.02</td>\n",
       "    </tr>\n",
       "    <tr>\n",
       "      <th>1</th>\n",
       "      <td>8001958</td>\n",
       "      <td>https://www.airbnb.com/rooms/8001958</td>\n",
       "      <td>20171002002039</td>\n",
       "      <td>2017-10-02</td>\n",
       "      <td>Ocean and park front panoramic view</td>\n",
       "      <td>This is a classic 1969 building in front of se...</td>\n",
       "      <td>NaN</td>\n",
       "      <td>This is a classic 1969 building in front of se...</td>\n",
       "      <td>none</td>\n",
       "      <td>NaN</td>\n",
       "      <td>...</td>\n",
       "      <td>t</td>\n",
       "      <td>NaN</td>\n",
       "      <td>{\"SAN FRANCISCO\"}</td>\n",
       "      <td>f</td>\n",
       "      <td>f</td>\n",
       "      <td>flexible</td>\n",
       "      <td>f</td>\n",
       "      <td>f</td>\n",
       "      <td>1</td>\n",
       "      <td>NaN</td>\n",
       "    </tr>\n",
       "    <tr>\n",
       "      <th>2</th>\n",
       "      <td>8388658</td>\n",
       "      <td>https://www.airbnb.com/rooms/8388658</td>\n",
       "      <td>20171002002039</td>\n",
       "      <td>2017-10-02</td>\n",
       "      <td>Mid-century Seacliff near GG Bridge</td>\n",
       "      <td>Three-bedroom in exclusive Seacliff neighborho...</td>\n",
       "      <td>NaN</td>\n",
       "      <td>Three-bedroom in exclusive Seacliff neighborho...</td>\n",
       "      <td>none</td>\n",
       "      <td>NaN</td>\n",
       "      <td>...</td>\n",
       "      <td>t</td>\n",
       "      <td>NaN</td>\n",
       "      <td>{\"SAN FRANCISCO\"}</td>\n",
       "      <td>f</td>\n",
       "      <td>f</td>\n",
       "      <td>flexible</td>\n",
       "      <td>f</td>\n",
       "      <td>f</td>\n",
       "      <td>1</td>\n",
       "      <td>NaN</td>\n",
       "    </tr>\n",
       "    <tr>\n",
       "      <th>3</th>\n",
       "      <td>16064495</td>\n",
       "      <td>https://www.airbnb.com/rooms/16064495</td>\n",
       "      <td>20171002002039</td>\n",
       "      <td>2017-10-02</td>\n",
       "      <td>Charming home with views of the Golden Gate Br...</td>\n",
       "      <td>Welcome to one of the coziest and charming hom...</td>\n",
       "      <td>This house has lots of history! It was origina...</td>\n",
       "      <td>Welcome to one of the coziest and charming hom...</td>\n",
       "      <td>none</td>\n",
       "      <td>Three blocks away on Clement Street are plenty...</td>\n",
       "      <td>...</td>\n",
       "      <td>t</td>\n",
       "      <td>NaN</td>\n",
       "      <td>{\"SAN FRANCISCO\"}</td>\n",
       "      <td>f</td>\n",
       "      <td>f</td>\n",
       "      <td>strict</td>\n",
       "      <td>f</td>\n",
       "      <td>f</td>\n",
       "      <td>1</td>\n",
       "      <td>NaN</td>\n",
       "    </tr>\n",
       "    <tr>\n",
       "      <th>4</th>\n",
       "      <td>15664146</td>\n",
       "      <td>https://www.airbnb.com/rooms/15664146</td>\n",
       "      <td>20171002002039</td>\n",
       "      <td>2017-10-02</td>\n",
       "      <td>Spacious 3 beds in convenient/safe neighborhood</td>\n",
       "      <td>My home is in one of the safest neighborhoods ...</td>\n",
       "      <td>NaN</td>\n",
       "      <td>My home is in one of the safest neighborhoods ...</td>\n",
       "      <td>none</td>\n",
       "      <td>NaN</td>\n",
       "      <td>...</td>\n",
       "      <td>t</td>\n",
       "      <td>NaN</td>\n",
       "      <td>{\"SAN FRANCISCO\"}</td>\n",
       "      <td>t</td>\n",
       "      <td>t</td>\n",
       "      <td>strict</td>\n",
       "      <td>f</td>\n",
       "      <td>f</td>\n",
       "      <td>1</td>\n",
       "      <td>3.86</td>\n",
       "    </tr>\n",
       "    <tr>\n",
       "      <th>5</th>\n",
       "      <td>1427660</td>\n",
       "      <td>https://www.airbnb.com/rooms/1427660</td>\n",
       "      <td>20171002002039</td>\n",
       "      <td>2017-10-02</td>\n",
       "      <td>Charming Studio Apt at Ocean Beach</td>\n",
       "      <td>NON-SMOKING, charming, private, peaceful hidea...</td>\n",
       "      <td>This NON-SMOKING, quiet and private 1 bedroom ...</td>\n",
       "      <td>NON-SMOKING, charming, private, peaceful hidea...</td>\n",
       "      <td>none</td>\n",
       "      <td>I'm excited for you to discover why I love liv...</td>\n",
       "      <td>...</td>\n",
       "      <td>t</td>\n",
       "      <td>0000026</td>\n",
       "      <td>{\"SAN FRANCISCO\"}</td>\n",
       "      <td>t</td>\n",
       "      <td>t</td>\n",
       "      <td>flexible</td>\n",
       "      <td>f</td>\n",
       "      <td>f</td>\n",
       "      <td>1</td>\n",
       "      <td>6.65</td>\n",
       "    </tr>\n",
       "    <tr>\n",
       "      <th>6</th>\n",
       "      <td>19745324</td>\n",
       "      <td>https://www.airbnb.com/rooms/19745324</td>\n",
       "      <td>20171002002039</td>\n",
       "      <td>2017-10-02</td>\n",
       "      <td>Super Fabulous Mansion!</td>\n",
       "      <td>Live in a mansion in the Sea Cliff neighborhoo...</td>\n",
       "      <td>This is a very large home in San Francisco's v...</td>\n",
       "      <td>Live in a mansion in the Sea Cliff neighborhoo...</td>\n",
       "      <td>none</td>\n",
       "      <td>China beach, Lincoln Park, Legion of Honor, Cl...</td>\n",
       "      <td>...</td>\n",
       "      <td>t</td>\n",
       "      <td>NaN</td>\n",
       "      <td>{\"SAN FRANCISCO\"}</td>\n",
       "      <td>f</td>\n",
       "      <td>f</td>\n",
       "      <td>moderate</td>\n",
       "      <td>f</td>\n",
       "      <td>f</td>\n",
       "      <td>1</td>\n",
       "      <td>2.88</td>\n",
       "    </tr>\n",
       "    <tr>\n",
       "      <th>7</th>\n",
       "      <td>18022892</td>\n",
       "      <td>https://www.airbnb.com/rooms/18022892</td>\n",
       "      <td>20171002002039</td>\n",
       "      <td>2017-10-02</td>\n",
       "      <td>Hardly Strictly Bluegrass Festival blocks away!</td>\n",
       "      <td>20 min. walk to Hardly Strictly Bluegrass Fest...</td>\n",
       "      <td>Our apartment is comfortable, peaceful and qui...</td>\n",
       "      <td>20 min. walk to Hardly Strictly Bluegrass Fest...</td>\n",
       "      <td>none</td>\n",
       "      <td>The house is on the very west end of the Outer...</td>\n",
       "      <td>...</td>\n",
       "      <td>t</td>\n",
       "      <td>NaN</td>\n",
       "      <td>{\"SAN FRANCISCO\"}</td>\n",
       "      <td>t</td>\n",
       "      <td>t</td>\n",
       "      <td>moderate</td>\n",
       "      <td>f</td>\n",
       "      <td>f</td>\n",
       "      <td>2</td>\n",
       "      <td>0.83</td>\n",
       "    </tr>\n",
       "    <tr>\n",
       "      <th>8</th>\n",
       "      <td>69681</td>\n",
       "      <td>https://www.airbnb.com/rooms/69681</td>\n",
       "      <td>20171002002039</td>\n",
       "      <td>2017-10-02</td>\n",
       "      <td>Panorama Pacific View - Pet Friendly</td>\n",
       "      <td>Incredible panoramic views of the ocean abound...</td>\n",
       "      <td>RATES BASED ON 30 NIGHT MINIMUM STAY Discounte...</td>\n",
       "      <td>Incredible panoramic views of the ocean abound...</td>\n",
       "      <td>none</td>\n",
       "      <td>Beautiful views of the ocean. Walk to Ocean Be...</td>\n",
       "      <td>...</td>\n",
       "      <td>t</td>\n",
       "      <td>NaN</td>\n",
       "      <td>{\"SAN FRANCISCO\"}</td>\n",
       "      <td>f</td>\n",
       "      <td>f</td>\n",
       "      <td>super_strict_30</td>\n",
       "      <td>f</td>\n",
       "      <td>f</td>\n",
       "      <td>25</td>\n",
       "      <td>0.08</td>\n",
       "    </tr>\n",
       "    <tr>\n",
       "      <th>9</th>\n",
       "      <td>3168359</td>\n",
       "      <td>https://www.airbnb.com/rooms/3168359</td>\n",
       "      <td>20171002002039</td>\n",
       "      <td>2017-10-02</td>\n",
       "      <td>Charming &amp; Private Ideal location</td>\n",
       "      <td>NaN</td>\n",
       "      <td>Spacious, quiet and beautifully decorated, thi...</td>\n",
       "      <td>Spacious, quiet and beautifully decorated, thi...</td>\n",
       "      <td>none</td>\n",
       "      <td>A favorite spot for both tourists and locals, ...</td>\n",
       "      <td>...</td>\n",
       "      <td>t</td>\n",
       "      <td>STR-0000248</td>\n",
       "      <td>{\"SAN FRANCISCO\"}</td>\n",
       "      <td>f</td>\n",
       "      <td>f</td>\n",
       "      <td>strict</td>\n",
       "      <td>f</td>\n",
       "      <td>f</td>\n",
       "      <td>2</td>\n",
       "      <td>3.76</td>\n",
       "    </tr>\n",
       "  </tbody>\n",
       "</table>\n",
       "<p>10 rows × 96 columns</p>\n",
       "</div>"
      ],
      "text/plain": [
       "         id                            listing_url       scrape_id  \\\n",
       "0  16570521  https://www.airbnb.com/rooms/16570521  20171002002039   \n",
       "1   8001958   https://www.airbnb.com/rooms/8001958  20171002002039   \n",
       "2   8388658   https://www.airbnb.com/rooms/8388658  20171002002039   \n",
       "3  16064495  https://www.airbnb.com/rooms/16064495  20171002002039   \n",
       "4  15664146  https://www.airbnb.com/rooms/15664146  20171002002039   \n",
       "5   1427660   https://www.airbnb.com/rooms/1427660  20171002002039   \n",
       "6  19745324  https://www.airbnb.com/rooms/19745324  20171002002039   \n",
       "7  18022892  https://www.airbnb.com/rooms/18022892  20171002002039   \n",
       "8     69681     https://www.airbnb.com/rooms/69681  20171002002039   \n",
       "9   3168359   https://www.airbnb.com/rooms/3168359  20171002002039   \n",
       "\n",
       "  last_scraped                                               name  \\\n",
       "0   2017-10-02                                Lands' End hideaway   \n",
       "1   2017-10-02                Ocean and park front panoramic view   \n",
       "2   2017-10-02                Mid-century Seacliff near GG Bridge   \n",
       "3   2017-10-02  Charming home with views of the Golden Gate Br...   \n",
       "4   2017-10-02    Spacious 3 beds in convenient/safe neighborhood   \n",
       "5   2017-10-02                 Charming Studio Apt at Ocean Beach   \n",
       "6   2017-10-02                            Super Fabulous Mansion!   \n",
       "7   2017-10-02    Hardly Strictly Bluegrass Festival blocks away!   \n",
       "8   2017-10-02               Panorama Pacific View - Pet Friendly   \n",
       "9   2017-10-02                  Charming & Private Ideal location   \n",
       "\n",
       "                                             summary  \\\n",
       "0  Light and airy in-law with dedicated bathroom ...   \n",
       "1  This is a classic 1969 building in front of se...   \n",
       "2  Three-bedroom in exclusive Seacliff neighborho...   \n",
       "3  Welcome to one of the coziest and charming hom...   \n",
       "4  My home is in one of the safest neighborhoods ...   \n",
       "5  NON-SMOKING, charming, private, peaceful hidea...   \n",
       "6  Live in a mansion in the Sea Cliff neighborhoo...   \n",
       "7  20 min. walk to Hardly Strictly Bluegrass Fest...   \n",
       "8  Incredible panoramic views of the ocean abound...   \n",
       "9                                                NaN   \n",
       "\n",
       "                                               space  \\\n",
       "0  The room is on the lower level of the house, w...   \n",
       "1                                                NaN   \n",
       "2                                                NaN   \n",
       "3  This house has lots of history! It was origina...   \n",
       "4                                                NaN   \n",
       "5  This NON-SMOKING, quiet and private 1 bedroom ...   \n",
       "6  This is a very large home in San Francisco's v...   \n",
       "7  Our apartment is comfortable, peaceful and qui...   \n",
       "8  RATES BASED ON 30 NIGHT MINIMUM STAY Discounte...   \n",
       "9  Spacious, quiet and beautifully decorated, thi...   \n",
       "\n",
       "                                         description experiences_offered  \\\n",
       "0  Light and airy in-law with dedicated bathroom ...                none   \n",
       "1  This is a classic 1969 building in front of se...                none   \n",
       "2  Three-bedroom in exclusive Seacliff neighborho...                none   \n",
       "3  Welcome to one of the coziest and charming hom...                none   \n",
       "4  My home is in one of the safest neighborhoods ...                none   \n",
       "5  NON-SMOKING, charming, private, peaceful hidea...                none   \n",
       "6  Live in a mansion in the Sea Cliff neighborhoo...                none   \n",
       "7  20 min. walk to Hardly Strictly Bluegrass Fest...                none   \n",
       "8  Incredible panoramic views of the ocean abound...                none   \n",
       "9  Spacious, quiet and beautifully decorated, thi...                none   \n",
       "\n",
       "                               neighborhood_overview        ...          \\\n",
       "0  The area around Lincoln Park is a residential ...        ...           \n",
       "1                                                NaN        ...           \n",
       "2                                                NaN        ...           \n",
       "3  Three blocks away on Clement Street are plenty...        ...           \n",
       "4                                                NaN        ...           \n",
       "5  I'm excited for you to discover why I love liv...        ...           \n",
       "6  China beach, Lincoln Park, Legion of Honor, Cl...        ...           \n",
       "7  The house is on the very west end of the Outer...        ...           \n",
       "8  Beautiful views of the ocean. Walk to Ocean Be...        ...           \n",
       "9  A favorite spot for both tourists and locals, ...        ...           \n",
       "\n",
       "  requires_license      license jurisdiction_names instant_bookable  \\\n",
       "0                t  STR-0001287  {\"SAN FRANCISCO\"}                f   \n",
       "1                t          NaN  {\"SAN FRANCISCO\"}                f   \n",
       "2                t          NaN  {\"SAN FRANCISCO\"}                f   \n",
       "3                t          NaN  {\"SAN FRANCISCO\"}                f   \n",
       "4                t          NaN  {\"SAN FRANCISCO\"}                t   \n",
       "5                t      0000026  {\"SAN FRANCISCO\"}                t   \n",
       "6                t          NaN  {\"SAN FRANCISCO\"}                f   \n",
       "7                t          NaN  {\"SAN FRANCISCO\"}                t   \n",
       "8                t          NaN  {\"SAN FRANCISCO\"}                f   \n",
       "9                t  STR-0000248  {\"SAN FRANCISCO\"}                f   \n",
       "\n",
       "  is_business_travel_ready cancellation_policy require_guest_profile_picture  \\\n",
       "0                        f            moderate                             f   \n",
       "1                        f            flexible                             f   \n",
       "2                        f            flexible                             f   \n",
       "3                        f              strict                             f   \n",
       "4                        t              strict                             f   \n",
       "5                        t            flexible                             f   \n",
       "6                        f            moderate                             f   \n",
       "7                        t            moderate                             f   \n",
       "8                        f     super_strict_30                             f   \n",
       "9                        f              strict                             f   \n",
       "\n",
       "  require_guest_phone_verification calculated_host_listings_count  \\\n",
       "0                                f                              2   \n",
       "1                                f                              1   \n",
       "2                                f                              1   \n",
       "3                                f                              1   \n",
       "4                                f                              1   \n",
       "5                                f                              1   \n",
       "6                                f                              1   \n",
       "7                                f                              2   \n",
       "8                                f                             25   \n",
       "9                                f                              2   \n",
       "\n",
       "   reviews_per_month  \n",
       "0               2.02  \n",
       "1                NaN  \n",
       "2                NaN  \n",
       "3                NaN  \n",
       "4               3.86  \n",
       "5               6.65  \n",
       "6               2.88  \n",
       "7               0.83  \n",
       "8               0.08  \n",
       "9               3.76  \n",
       "\n",
       "[10 rows x 96 columns]"
      ]
     },
     "execution_count": 2,
     "metadata": {},
     "output_type": "execute_result"
    }
   ],
   "source": [
    "full_df = pd.read_csv('sf_airbnb2017.csv', low_memory=False)\n",
    "full_df.head(10)"
   ]
  },
  {
   "cell_type": "code",
   "execution_count": 3,
   "metadata": {},
   "outputs": [
    {
     "name": "stdout",
     "output_type": "stream",
     "text": [
      "(8933, 96)\n"
     ]
    }
   ],
   "source": [
    "print(full_df.shape)"
   ]
  },
  {
   "cell_type": "markdown",
   "metadata": {},
   "source": [
    "<span style = 'color:red'>Important</span><br>I ran the head and tail functions in order to look at the first 5 and last 5 entries of the data set. I had also tried to look at the column names involved in this data set with .columns. While the columns were listed, a deprecation type warning popped up.\n",
    "\n",
    "It seemed like I had to set a dtype option which would have required me defining a type for each column like {maximum_nights:int}. Alternatively I could have also set low_memory=False. The reason that such a warning message pops up is that when dtypes aren't initially specified, there is a guessing process involved after reading the data, which requires huge amounts of memory. \n",
    "\n",
    "As this is a relatively small data set of 8933 rows and 96 columns, I will ignore the warning for now until I have cleaned the data."
   ]
  },
  {
   "cell_type": "markdown",
   "metadata": {},
   "source": [
    "## Step 2: Initial Data Exploration and Cleaning\n",
    "\n",
    "It is necessary before cleaning the data to understand the data and what is in there. All the column and column types were logged and further analysis conducted."
   ]
  },
  {
   "cell_type": "code",
   "execution_count": 4,
   "metadata": {},
   "outputs": [
    {
     "name": "stdout",
     "output_type": "stream",
     "text": [
      "Index(['id', 'listing_url', 'scrape_id', 'last_scraped', 'name', 'summary',\n",
      "       'space', 'description', 'experiences_offered', 'neighborhood_overview',\n",
      "       'notes', 'transit', 'access', 'interaction', 'house_rules',\n",
      "       'thumbnail_url', 'medium_url', 'picture_url', 'xl_picture_url',\n",
      "       'host_id', 'host_url', 'host_name', 'host_since', 'host_location',\n",
      "       'host_about', 'host_response_time', 'host_response_rate',\n",
      "       'host_acceptance_rate', 'host_is_superhost', 'host_thumbnail_url',\n",
      "       'host_picture_url', 'host_neighbourhood', 'host_listings_count',\n",
      "       'host_total_listings_count', 'host_verifications',\n",
      "       'host_has_profile_pic', 'host_identity_verified', 'street',\n",
      "       'neighbourhood', 'neighbourhood_cleansed',\n",
      "       'neighbourhood_group_cleansed', 'city', 'state', 'zipcode', 'market',\n",
      "       'smart_location', 'country_code', 'country', 'latitude', 'longitude',\n",
      "       'is_location_exact', 'property_type', 'room_type', 'accommodates',\n",
      "       'bathrooms', 'bedrooms', 'beds', 'bed_type', 'amenities', 'square_feet',\n",
      "       'price', 'weekly_price', 'monthly_price', 'security_deposit',\n",
      "       'cleaning_fee', 'guests_included', 'extra_people', 'minimum_nights',\n",
      "       'maximum_nights', 'calendar_updated', 'has_availability',\n",
      "       'availability_30', 'availability_60', 'availability_90',\n",
      "       'availability_365', 'calendar_last_scraped', 'number_of_reviews',\n",
      "       'first_review', 'last_review', 'review_scores_rating',\n",
      "       'review_scores_accuracy', 'review_scores_cleanliness',\n",
      "       'review_scores_checkin', 'review_scores_communication',\n",
      "       'review_scores_location', 'review_scores_value', 'requires_license',\n",
      "       'license', 'jurisdiction_names', 'instant_bookable',\n",
      "       'is_business_travel_ready', 'cancellation_policy',\n",
      "       'require_guest_profile_picture', 'require_guest_phone_verification',\n",
      "       'calculated_host_listings_count', 'reviews_per_month'],\n",
      "      dtype='object')\n"
     ]
    }
   ],
   "source": [
    "print(full_df.columns)"
   ]
  },
  {
   "cell_type": "code",
   "execution_count": 5,
   "metadata": {},
   "outputs": [
    {
     "name": "stdout",
     "output_type": "stream",
     "text": [
      "id                                    int64\n",
      "listing_url                          object\n",
      "scrape_id                             int64\n",
      "last_scraped                         object\n",
      "name                                 object\n",
      "summary                              object\n",
      "space                                object\n",
      "description                          object\n",
      "experiences_offered                  object\n",
      "neighborhood_overview                object\n",
      "notes                                object\n",
      "transit                              object\n",
      "access                               object\n",
      "interaction                          object\n",
      "house_rules                          object\n",
      "thumbnail_url                        object\n",
      "medium_url                           object\n",
      "picture_url                          object\n",
      "xl_picture_url                       object\n",
      "host_id                               int64\n",
      "host_url                             object\n",
      "host_name                            object\n",
      "host_since                           object\n",
      "host_location                        object\n",
      "host_about                           object\n",
      "host_response_time                   object\n",
      "host_response_rate                   object\n",
      "host_acceptance_rate                float64\n",
      "host_is_superhost                    object\n",
      "host_thumbnail_url                   object\n",
      "                                     ...   \n",
      "extra_people                         object\n",
      "minimum_nights                        int64\n",
      "maximum_nights                        int64\n",
      "calendar_updated                     object\n",
      "has_availability                     object\n",
      "availability_30                       int64\n",
      "availability_60                       int64\n",
      "availability_90                       int64\n",
      "availability_365                      int64\n",
      "calendar_last_scraped                object\n",
      "number_of_reviews                     int64\n",
      "first_review                         object\n",
      "last_review                          object\n",
      "review_scores_rating                float64\n",
      "review_scores_accuracy              float64\n",
      "review_scores_cleanliness           float64\n",
      "review_scores_checkin               float64\n",
      "review_scores_communication         float64\n",
      "review_scores_location              float64\n",
      "review_scores_value                 float64\n",
      "requires_license                     object\n",
      "license                              object\n",
      "jurisdiction_names                   object\n",
      "instant_bookable                     object\n",
      "is_business_travel_ready             object\n",
      "cancellation_policy                  object\n",
      "require_guest_profile_picture        object\n",
      "require_guest_phone_verification     object\n",
      "calculated_host_listings_count        int64\n",
      "reviews_per_month                   float64\n",
      "Length: 96, dtype: object\n"
     ]
    }
   ],
   "source": [
    "print(full_df.dtypes)"
   ]
  },
  {
   "cell_type": "markdown",
   "metadata": {},
   "source": [
    "### Cleaning data labelling and column names\n",
    "\n",
    "<span style=\"color:red\">Important</span><br>We are lucky enough here to get a data set with properly labelled column names. However, there are many instance when the data column names might come in random forms like \"1 review for cleanliness\". The most ideal form of column heading seems to be when individual words are separated by an underscore and numbering was removed. The below code is an example of how I learned to do this:"
   ]
  },
  {
   "cell_type": "code",
   "execution_count": 6,
   "metadata": {},
   "outputs": [
    {
     "data": {
      "text/plain": [
       "'review_for_cleanliness'"
      ]
     },
     "execution_count": 6,
     "metadata": {},
     "output_type": "execute_result"
    }
   ],
   "source": [
    "test = \"1 review for cleanliness\"\n",
    "\n",
    "#this splits the number from the text, maxsplit=1 means the data gets split once\n",
    "test.split(maxsplit=1)\n",
    "\n",
    "#adding [1] only returns the 2nd element of the array with the text we want\n",
    "test.split(maxsplit=1)[1]\n",
    "\n",
    "#using a replace method then adds the underscores that we want\n",
    "test.split(maxsplit=1)[1].replace(' ','_')"
   ]
  },
  {
   "cell_type": "markdown",
   "metadata": {},
   "source": [
    "Assuming that all the columns have the same type of messy data structure and we want to apply this above method to all column names, we could use a for loop to do so like this:"
   ]
  },
  {
   "cell_type": "code",
   "execution_count": 7,
   "metadata": {
    "collapsed": true
   },
   "outputs": [],
   "source": [
    "###create a new array to store the new names\n",
    "#new_column_names = []\n",
    "\n",
    "###loop over all the column names and append the reformatted names to the array created\n",
    "#for var in dataset.columns:\n",
    "#    new_column_names.append(var.split(maxsplit=1)[1].replace(' ','_'))\n",
    "\n",
    "###rename all the column names with the new column names in new_column_names\n",
    "#dataset.columns = new_column_names"
   ]
  },
  {
   "cell_type": "markdown",
   "metadata": {},
   "source": [
    "### Dropping uncessary columns\n",
    "\n",
    "<span style = 'color:blue'>Analysis</span><br>This seems to be a relatively comprehensive data set with a lot of different column headings, some of which do not have relevant data, while are repetitive in nature.\n",
    "\n",
    "The initial plan here is to drop the irrelevant columns first before delving into users with incomplete information.\n",
    "\n",
    "As such, the below columns are subsequently dropped for the following reasons:\n",
    "\n",
    "1. Url information is unecessary and not intuitively related to any other metric: [listing_url, thumbnail_url, medium_url, picture_url, xl_picture_url, host_url, host_thumbnail_url, host_picture_url]\n",
    "\n",
    "2. Scraping information is constant across the board: [scrape_id, last_scraped]\n",
    "\n",
    "3. Too many NaN, NA, or missing values for the data to be of use: [host_acceptance_rate, license, jurisdiction]\n",
    "\n",
    "4. Overlapping/redundant information: [has_availability, maximum_nights, country_code, country]\n",
    "\n",
    "With the above filter in place, a new reduced data set of 45 factors was selected:"
   ]
  },
  {
   "cell_type": "code",
   "execution_count": 8,
   "metadata": {
    "scrolled": false
   },
   "outputs": [
    {
     "data": {
      "text/plain": [
       "id                               int64\n",
       "name                            object\n",
       "summary                         object\n",
       "space                           object\n",
       "access                          object\n",
       "interaction                     object\n",
       "house_rules                     object\n",
       "host_since                      object\n",
       "host_response_time              object\n",
       "host_is_superhost               object\n",
       "host_listings_count            float64\n",
       "host_verifications              object\n",
       "host_has_profile_pic            object\n",
       "host_identity_verified          object\n",
       "neighbourhood                   object\n",
       "zipcode                         object\n",
       "latitude                       float64\n",
       "longitude                      float64\n",
       "property_type                   object\n",
       "room_type                       object\n",
       "accommodates                     int64\n",
       "bathrooms                      float64\n",
       "bedrooms                       float64\n",
       "beds                           float64\n",
       "bed_type                        object\n",
       "amenities                       object\n",
       "price                           object\n",
       "security_deposit                object\n",
       "cleaning_fee                    object\n",
       "extra_people                    object\n",
       "minimum_nights                   int64\n",
       "availability_30                  int64\n",
       "availability_60                  int64\n",
       "availability_90                  int64\n",
       "availability_365                 int64\n",
       "number_of_reviews                int64\n",
       "review_scores_rating           float64\n",
       "review_scores_accuracy         float64\n",
       "review_scores_cleanliness      float64\n",
       "review_scores_checkin          float64\n",
       "review_scores_communication    float64\n",
       "review_scores_location         float64\n",
       "review_scores_value            float64\n",
       "instant_bookable                object\n",
       "cancellation_policy             object\n",
       "dtype: object"
      ]
     },
     "execution_count": 8,
     "metadata": {},
     "output_type": "execute_result"
    }
   ],
   "source": [
    "filtered_df = full_df[['id','name','summary','space','access','interaction','house_rules','host_since','host_response_time','host_is_superhost','host_listings_count','host_verifications','host_has_profile_pic','host_identity_verified','neighbourhood','zipcode','latitude','longitude','property_type','room_type','accommodates','bathrooms','bedrooms','beds','bed_type','amenities','price','security_deposit','cleaning_fee','extra_people','minimum_nights','availability_30','availability_60','availability_90','availability_365','number_of_reviews','review_scores_rating','review_scores_accuracy','review_scores_cleanliness','review_scores_checkin','review_scores_communication','review_scores_location','review_scores_value','instant_bookable','cancellation_policy']]\n",
    "filtered_df.to_csv('filtered_data.csv')\n",
    "filtered_df.dtypes"
   ]
  },
  {
   "cell_type": "markdown",
   "metadata": {},
   "source": [
    "### Cleaning numeric data and converting string to float\n",
    "\n",
    "<span style = 'color:blue'>Analysis</span><br>\n",
    "Looking over the data types, it would seem that most of them are objects where I would have expected a string value. Some online forums suggested that 'object' was how some string items were classified and I tried to perform some string methods on the \"object\" variables to see whether they would work."
   ]
  },
  {
   "cell_type": "code",
   "execution_count": 9,
   "metadata": {},
   "outputs": [
    {
     "name": "stdout",
     "output_type": "stream",
     "text": [
      "[\"Lands'\", 'End', 'hideaway']\n"
     ]
    }
   ],
   "source": [
    "print(filtered_df['name'][0].split(' '))"
   ]
  },
  {
   "cell_type": "markdown",
   "metadata": {},
   "source": [
    "Furthermore, there seems to be some classification errors involved with variables that involve price, namely price, security_deposit, cleaning_fee, and extra_people. This is largely due to the presence of '$' dollar signs. They're likely to be classified as an object right now. As they are currently objects, the replace method will be used to remove the dollar sign and number then can be converted to a numeric value."
   ]
  },
  {
   "cell_type": "code",
   "execution_count": 10,
   "metadata": {
    "scrolled": true
   },
   "outputs": [
    {
     "data": {
      "text/html": [
       "<div>\n",
       "<style>\n",
       "    .dataframe thead tr:only-child th {\n",
       "        text-align: right;\n",
       "    }\n",
       "\n",
       "    .dataframe thead th {\n",
       "        text-align: left;\n",
       "    }\n",
       "\n",
       "    .dataframe tbody tr th {\n",
       "        vertical-align: top;\n",
       "    }\n",
       "</style>\n",
       "<table border=\"1\" class=\"dataframe\">\n",
       "  <thead>\n",
       "    <tr style=\"text-align: right;\">\n",
       "      <th></th>\n",
       "      <th>price</th>\n",
       "      <th>security_deposit</th>\n",
       "      <th>cleaning_fee</th>\n",
       "      <th>extra_people</th>\n",
       "    </tr>\n",
       "  </thead>\n",
       "  <tbody>\n",
       "    <tr>\n",
       "      <th>0</th>\n",
       "      <td>$120.00</td>\n",
       "      <td>$150.00</td>\n",
       "      <td>$35.00</td>\n",
       "      <td>$0.00</td>\n",
       "    </tr>\n",
       "    <tr>\n",
       "      <th>1</th>\n",
       "      <td>$1,850.00</td>\n",
       "      <td>NaN</td>\n",
       "      <td>NaN</td>\n",
       "      <td>$0.00</td>\n",
       "    </tr>\n",
       "    <tr>\n",
       "      <th>2</th>\n",
       "      <td>$895.00</td>\n",
       "      <td>$250.00</td>\n",
       "      <td>$125.00</td>\n",
       "      <td>$0.00</td>\n",
       "    </tr>\n",
       "    <tr>\n",
       "      <th>3</th>\n",
       "      <td>$975.00</td>\n",
       "      <td>$500.00</td>\n",
       "      <td>$150.00</td>\n",
       "      <td>$0.00</td>\n",
       "    </tr>\n",
       "    <tr>\n",
       "      <th>4</th>\n",
       "      <td>$295.00</td>\n",
       "      <td>$500.00</td>\n",
       "      <td>$150.00</td>\n",
       "      <td>$20.00</td>\n",
       "    </tr>\n",
       "  </tbody>\n",
       "</table>\n",
       "</div>"
      ],
      "text/plain": [
       "       price security_deposit cleaning_fee extra_people\n",
       "0    $120.00          $150.00       $35.00        $0.00\n",
       "1  $1,850.00              NaN          NaN        $0.00\n",
       "2    $895.00          $250.00      $125.00        $0.00\n",
       "3    $975.00          $500.00      $150.00        $0.00\n",
       "4    $295.00          $500.00      $150.00       $20.00"
      ]
     },
     "execution_count": 10,
     "metadata": {},
     "output_type": "execute_result"
    }
   ],
   "source": [
    "numeric_cols = ['price','security_deposit','cleaning_fee','extra_people']\n",
    "filtered_df[numeric_cols].head(5)"
   ]
  },
  {
   "cell_type": "code",
   "execution_count": 11,
   "metadata": {},
   "outputs": [
    {
     "data": {
      "text/plain": [
       "price               object\n",
       "security_deposit    object\n",
       "cleaning_fee        object\n",
       "extra_people        object\n",
       "dtype: object"
      ]
     },
     "execution_count": 11,
     "metadata": {},
     "output_type": "execute_result"
    }
   ],
   "source": [
    "filtered_df[numeric_cols].dtypes"
   ]
  },
  {
   "cell_type": "markdown",
   "metadata": {},
   "source": [
    "We observe that there are NaN values present in some of the listings and it seems reasonable to assume here that the appropriate value should be 0. The type of values should also be float and not object."
   ]
  },
  {
   "cell_type": "code",
   "execution_count": 12,
   "metadata": {},
   "outputs": [
    {
     "name": "stderr",
     "output_type": "stream",
     "text": [
      "/Applications/anaconda3/lib/python3.6/site-packages/pandas/core/generic.py:3855: SettingWithCopyWarning: \n",
      "A value is trying to be set on a copy of a slice from a DataFrame.\n",
      "Try using .loc[row_indexer,col_indexer] = value instead\n",
      "\n",
      "See the caveats in the documentation: http://pandas.pydata.org/pandas-docs/stable/indexing.html#indexing-view-versus-copy\n",
      "  regex=regex)\n",
      "/Applications/anaconda3/lib/python3.6/site-packages/ipykernel_launcher.py:4: SettingWithCopyWarning: \n",
      "A value is trying to be set on a copy of a slice from a DataFrame.\n",
      "Try using .loc[row_indexer,col_indexer] = value instead\n",
      "\n",
      "See the caveats in the documentation: http://pandas.pydata.org/pandas-docs/stable/indexing.html#indexing-view-versus-copy\n",
      "  after removing the cwd from sys.path.\n",
      "/Applications/anaconda3/lib/python3.6/site-packages/ipykernel_launcher.py:5: SettingWithCopyWarning: \n",
      "A value is trying to be set on a copy of a slice from a DataFrame.\n",
      "Try using .loc[row_indexer,col_indexer] = value instead\n",
      "\n",
      "See the caveats in the documentation: http://pandas.pydata.org/pandas-docs/stable/indexing.html#indexing-view-versus-copy\n",
      "  \"\"\"\n"
     ]
    }
   ],
   "source": [
    "for var in filtered_df[numeric_cols]:\n",
    "    filtered_df.replace({var: {'\\$': ''}}, regex=True, inplace=True)\n",
    "    filtered_df.replace({var: {'\\,': ''}}, regex=True, inplace=True)\n",
    "    filtered_df[var] = filtered_df[var].astype('float64', copy=False)\n",
    "    filtered_df[var] = filtered_df[var].fillna(0)"
   ]
  },
  {
   "cell_type": "code",
   "execution_count": 13,
   "metadata": {},
   "outputs": [
    {
     "data": {
      "text/plain": [
       "price               float64\n",
       "security_deposit    float64\n",
       "cleaning_fee        float64\n",
       "extra_people        float64\n",
       "dtype: object"
      ]
     },
     "execution_count": 13,
     "metadata": {},
     "output_type": "execute_result"
    }
   ],
   "source": [
    "filtered_df[numeric_cols].dtypes"
   ]
  },
  {
   "cell_type": "markdown",
   "metadata": {},
   "source": [
    "<span style = 'color:red'>Important</span><br>Probably one of the most challenging parts of this data cleansing so far has been attempting to clean the numerical data across multiple columns. I had initially tried to clean the data individually by simply using a replace function for '$' but then realized that there was a type error because commas ',' were still preventing the values from being turned into floats.\n",
    "\n",
    "Another issue was with attempting to apply the fillna method across multiple columns. \n",
    "\n",
    "It was also a challenge to find the right regex format that would not only keep all numbers but the decimal point within the string as well.\n",
    "\n",
    "While I don't think I fully figured out the proper syntax for regex despite having used it in Javascript before, I managed to overcome the difficulty of changing values across multiple columns by creating an array numeric_cols with columns of numerical data and looping through it. Looping through each column heading within the array, I was now able to apply all the replacements through regex and filling all the NaN values with 0.\n",
    "\n",
    "### Applying datetime package to recode a column\n",
    "\n",
    "I next moved on to cleaning the data for 'host_since' to make the data more useable. The current data only showed the current date the current host joined in string form and the datetime package was applied to retrieve the date in a more useable format. \n",
    "\n",
    "While 'years since joining' would have been useful, a more comparable metric would be 'years since joining'. A new column was thus created as 'years_being_host' in which the number of years since joining was calculated, with NA values filled with 0. The final result was then converted to type int64 and the 'host_since' column was dropped."
   ]
  },
  {
   "cell_type": "code",
   "execution_count": 14,
   "metadata": {},
   "outputs": [
    {
     "name": "stderr",
     "output_type": "stream",
     "text": [
      "/Applications/anaconda3/lib/python3.6/site-packages/ipykernel_launcher.py:2: SettingWithCopyWarning: \n",
      "A value is trying to be set on a copy of a slice from a DataFrame.\n",
      "Try using .loc[row_indexer,col_indexer] = value instead\n",
      "\n",
      "See the caveats in the documentation: http://pandas.pydata.org/pandas-docs/stable/indexing.html#indexing-view-versus-copy\n",
      "  \n",
      "/Applications/anaconda3/lib/python3.6/site-packages/ipykernel_launcher.py:4: SettingWithCopyWarning: \n",
      "A value is trying to be set on a copy of a slice from a DataFrame.\n",
      "Try using .loc[row_indexer,col_indexer] = value instead\n",
      "\n",
      "See the caveats in the documentation: http://pandas.pydata.org/pandas-docs/stable/indexing.html#indexing-view-versus-copy\n",
      "  after removing the cwd from sys.path.\n",
      "/Applications/anaconda3/lib/python3.6/site-packages/ipykernel_launcher.py:6: SettingWithCopyWarning: \n",
      "A value is trying to be set on a copy of a slice from a DataFrame.\n",
      "Try using .loc[row_indexer,col_indexer] = value instead\n",
      "\n",
      "See the caveats in the documentation: http://pandas.pydata.org/pandas-docs/stable/indexing.html#indexing-view-versus-copy\n",
      "  \n",
      "/Applications/anaconda3/lib/python3.6/site-packages/ipykernel_launcher.py:8: SettingWithCopyWarning: \n",
      "A value is trying to be set on a copy of a slice from a DataFrame\n",
      "\n",
      "See the caveats in the documentation: http://pandas.pydata.org/pandas-docs/stable/indexing.html#indexing-view-versus-copy\n",
      "  \n"
     ]
    },
    {
     "data": {
      "text/plain": [
       "0    4\n",
       "1    4\n",
       "2    5\n",
       "3    3\n",
       "4    2\n",
       "Name: years_being_host, dtype: int64"
      ]
     },
     "execution_count": 14,
     "metadata": {},
     "output_type": "execute_result"
    }
   ],
   "source": [
    "#using datetime package and subtracting years from 2018 to find how many years as host\n",
    "filtered_df['years_being_host'] = 2018 - pd.DatetimeIndex(filtered_df['host_since']).year\n",
    "#filled NA values with 0 -> indicating 0 years being host\n",
    "filtered_df['years_being_host'] = filtered_df['years_being_host'].fillna(0)\n",
    "#changed the type to integer to match with nature of data\n",
    "filtered_df['years_being_host'] = filtered_df['years_being_host'].astype('int64', copy=False)\n",
    "#dropped 'host_since' as it wasn't being used anymore\n",
    "filtered_df.drop(['host_since'], axis = 1, inplace=True)\n",
    "filtered_df['years_being_host'].head()"
   ]
  },
  {
   "cell_type": "markdown",
   "metadata": {},
   "source": [
    "### Columns/Rows with too many missing values\n",
    "\n",
    "After recoding the numeric and date data, the next thing I noticed was that there were a few columns in which there were a lot of missing values, namely all the rating values and descriptions. \n",
    "\n",
    "<span style = 'color:red'>Important</span><br>It was also at this time that I came across 'apply' in which you can write a function and apply it to the dataframe. In this case, in order to find out the number of missing values, a function was needed to count the number of missing values in each column. While I had initially written a function along the lines of defining a counter, a quick google search returned a more 'elegant' python function in 'sum(x.isnull())' which adds to a counter whenever isnull() returns true.\n",
    "\n",
    "By applying the num_missing function across axis=0, we are counting down the column and thus finding the missing values in each column. The following table was thus produced:"
   ]
  },
  {
   "cell_type": "code",
   "execution_count": 15,
   "metadata": {},
   "outputs": [
    {
     "name": "stdout",
     "output_type": "stream",
     "text": [
      "id                                0\n",
      "name                              4\n",
      "summary                         307\n",
      "space                          2562\n",
      "access                         3457\n",
      "interaction                    3630\n",
      "house_rules                    2917\n",
      "host_response_time             2744\n",
      "host_is_superhost                 2\n",
      "host_listings_count               2\n",
      "host_verifications                0\n",
      "host_has_profile_pic              2\n",
      "host_identity_verified            2\n",
      "neighbourhood                    12\n",
      "zipcode                         113\n",
      "latitude                          0\n",
      "longitude                         0\n",
      "property_type                     0\n",
      "room_type                         0\n",
      "accommodates                      0\n",
      "bathrooms                        31\n",
      "bedrooms                          8\n",
      "beds                             15\n",
      "bed_type                          0\n",
      "amenities                         0\n",
      "price                             0\n",
      "security_deposit                  0\n",
      "cleaning_fee                      0\n",
      "extra_people                      0\n",
      "minimum_nights                    0\n",
      "availability_30                   0\n",
      "availability_60                   0\n",
      "availability_90                   0\n",
      "availability_365                  0\n",
      "number_of_reviews                 0\n",
      "review_scores_rating           1906\n",
      "review_scores_accuracy         1915\n",
      "review_scores_cleanliness      1914\n",
      "review_scores_checkin          1933\n",
      "review_scores_communication    1916\n",
      "review_scores_location         1932\n",
      "review_scores_value            1935\n",
      "instant_bookable                  0\n",
      "cancellation_policy               0\n",
      "years_being_host                  0\n",
      "dtype: int64\n"
     ]
    }
   ],
   "source": [
    "def num_missing(x):\n",
    "  return sum(x.isnull())\n",
    "\n",
    "print (filtered_df.apply(num_missing, axis=0))"
   ]
  },
  {
   "cell_type": "markdown",
   "metadata": {},
   "source": [
    "<span style = 'color:blue'>Analysis</span><br>There initially seems to be over a quarter of entries that are missing information in the space, access, interaction, and house_rules categories. However, the lack of information on these fields do not affect an overall visualization as of yet until we really delve into predictive models regarding the use of specific words within these descriptions.\n",
    "\n",
    "What seems to be data that can be filtered out however, are the listings that are lacking in review ratings. A quick glance at some of the data fields indicate that many of the listings that are missing rating information in one field are very likely to be missing rating information across all the other fields as well. As such, we will have to drop the rows that are missing information in ratings at that seems to be an indication of a lack of reviews or stays and the data might not be indicative of overall trends."
   ]
  },
  {
   "cell_type": "code",
   "execution_count": 16,
   "metadata": {},
   "outputs": [
    {
     "name": "stderr",
     "output_type": "stream",
     "text": [
      "/Applications/anaconda3/lib/python3.6/site-packages/ipykernel_launcher.py:4: SettingWithCopyWarning: \n",
      "A value is trying to be set on a copy of a slice from a DataFrame\n",
      "\n",
      "See the caveats in the documentation: http://pandas.pydata.org/pandas-docs/stable/indexing.html#indexing-view-versus-copy\n",
      "  after removing the cwd from sys.path.\n"
     ]
    }
   ],
   "source": [
    "#array created of every variable that is related to review scores\n",
    "ratings = ['review_scores_rating','review_scores_accuracy','review_scores_cleanliness','review_scores_checkin','review_scores_communication','review_scores_location','review_scores_value']\n",
    "#rows that are missing any of the above variables are dropped from the data frame\n",
    "filtered_df.dropna(axis=0, subset=[ratings], inplace=True)"
   ]
  },
  {
   "cell_type": "markdown",
   "metadata": {},
   "source": [
    "We next look at cleaning up some of the other variables that do not have that many missing values. The way such missing entries are dealt with are detailed below:\n",
    "1. name and summary: these rows are removed as they make up < 3% of the overall data and listings without names or basic summaries are not representative listings\n",
    "2. host_is_superhost, host_has_profile_pic, host_identity_verified: we will assume that these individuals do not belong to any of these groups and has a value of false\n",
    "3. host_listings_count, bathrooms, bedrooms, beds: we will take the mode value of 1, assuming that these hosts are similar to most hosts\n",
    "4. neighborhood and zipcode: we will ignore these missing values as the exact locations are saved under latitude and longitude"
   ]
  },
  {
   "cell_type": "code",
   "execution_count": 17,
   "metadata": {
    "scrolled": true
   },
   "outputs": [
    {
     "name": "stderr",
     "output_type": "stream",
     "text": [
      "/Applications/anaconda3/lib/python3.6/site-packages/ipykernel_launcher.py:2: SettingWithCopyWarning: \n",
      "A value is trying to be set on a copy of a slice from a DataFrame\n",
      "\n",
      "See the caveats in the documentation: http://pandas.pydata.org/pandas-docs/stable/indexing.html#indexing-view-versus-copy\n",
      "  \n",
      "/Applications/anaconda3/lib/python3.6/site-packages/pandas/core/generic.py:3660: SettingWithCopyWarning: \n",
      "A value is trying to be set on a copy of a slice from a DataFrame\n",
      "\n",
      "See the caveats in the documentation: http://pandas.pydata.org/pandas-docs/stable/indexing.html#indexing-view-versus-copy\n",
      "  self._update_inplace(new_data)\n"
     ]
    },
    {
     "name": "stdout",
     "output_type": "stream",
     "text": [
      "id                                0\n",
      "name                              0\n",
      "summary                           0\n",
      "space                          1506\n",
      "access                         2048\n",
      "interaction                    2193\n",
      "house_rules                    1725\n",
      "host_response_time             1353\n",
      "host_is_superhost                 0\n",
      "host_listings_count               0\n",
      "host_verifications                0\n",
      "host_has_profile_pic              0\n",
      "host_identity_verified            0\n",
      "neighbourhood                    11\n",
      "zipcode                          78\n",
      "latitude                          0\n",
      "longitude                         0\n",
      "property_type                     0\n",
      "room_type                         0\n",
      "accommodates                      0\n",
      "bathrooms                         0\n",
      "bedrooms                          0\n",
      "beds                              0\n",
      "bed_type                          0\n",
      "amenities                         0\n",
      "price                             0\n",
      "security_deposit                  0\n",
      "cleaning_fee                      0\n",
      "extra_people                      0\n",
      "minimum_nights                    0\n",
      "availability_30                   0\n",
      "availability_60                   0\n",
      "availability_90                   0\n",
      "availability_365                  0\n",
      "number_of_reviews                 0\n",
      "review_scores_rating              0\n",
      "review_scores_accuracy            0\n",
      "review_scores_cleanliness         0\n",
      "review_scores_checkin             0\n",
      "review_scores_communication       0\n",
      "review_scores_location            0\n",
      "review_scores_value               0\n",
      "instant_bookable                  0\n",
      "cancellation_policy               0\n",
      "years_being_host                  0\n",
      "dtype: int64\n"
     ]
    }
   ],
   "source": [
    "#drops entries without name or summary\n",
    "filtered_df.dropna(axis=0,subset=[['name','summary']],inplace=True)\n",
    "\n",
    "#fills NA values across multiple columns with 'f' or 1 as specified above\n",
    "values = {'host_is_superhost':'f','host_has_profile_pic':'f','host_identity_verified':'f','host_listings_count':1,'bathrooms':1,'bedrooms':1,'beds':1}\n",
    "filtered_df.fillna(value = values, inplace=True)\n",
    "\n",
    "print (filtered_df.apply(num_missing, axis=0))"
   ]
  },
  {
   "cell_type": "markdown",
   "metadata": {},
   "source": [
    "The number of entries/rows after this first stage of cleaning is 6720, down from 8933 initially. More data cleaning will be done before a model is built later."
   ]
  },
  {
   "cell_type": "code",
   "execution_count": 18,
   "metadata": {},
   "outputs": [
    {
     "data": {
      "text/plain": [
       "(6720, 45)"
      ]
     },
     "execution_count": 18,
     "metadata": {},
     "output_type": "execute_result"
    }
   ],
   "source": [
    "filtered_df.shape"
   ]
  },
  {
   "cell_type": "markdown",
   "metadata": {},
   "source": [
    "\n",
    "# Step 3: Basic Statistics and Visualizations"
   ]
  },
  {
   "cell_type": "markdown",
   "metadata": {},
   "source": [
    "Now that the data has been cleaned, more exploratory data analysis and visualizations can be conducted. A different statistical analysis will be run on different variables to learn each method while getting a full view of most of the variables.\n",
    "\n",
    "### Descriptive Statistics and Histogram\n",
    "\n",
    "The describe method was used to obtain the basic descriptive statistics for overall review ratings. From the scores below, it can be seen that most of the review scores ratings fall within the 97-100 range with a range of around 95. With even the lowest quartile hitting the 93 mark. The minimum however is a 20, which seems to indicate outliers in terms of ratings. \n",
    "\n",
    "A histogram was created for the review values and they do indeed show outliers below 40."
   ]
  },
  {
   "cell_type": "code",
   "execution_count": 20,
   "metadata": {},
   "outputs": [
    {
     "data": {
      "text/plain": [
       "count    6720.000000\n",
       "mean       94.945536\n",
       "std         7.091854\n",
       "min        20.000000\n",
       "25%        93.000000\n",
       "50%        97.000000\n",
       "75%       100.000000\n",
       "max       100.000000\n",
       "Name: review_scores_rating, dtype: float64"
      ]
     },
     "execution_count": 20,
     "metadata": {},
     "output_type": "execute_result"
    }
   ],
   "source": [
    "filtered_df['review_scores_rating'].describe()"
   ]
  },
  {
   "cell_type": "code",
   "execution_count": 21,
   "metadata": {},
   "outputs": [
    {
     "data": {
      "image/png": "[encoded data removed]",
      "text/plain": [
       "<matplotlib.figure.Figure at 0x109e6bac8>"
      ]
     },
     "metadata": {},
     "output_type": "display_data"
    }
   ],
   "source": [
    "fig = plt.figure()\n",
    "ax = fig.add_subplot(1,1,1)\n",
    "ax.hist(filtered_df['review_scores_rating'], bins=10)\n",
    "plt.title('Frequency of Review Scores')\n",
    "plt.xlabel('Rating Values')\n",
    "plt.ylabel('# of Ratings')\n",
    "plt.show()"
   ]
  },
  {
   "cell_type": "markdown",
   "metadata": {},
   "source": [
    "### Correlation, Covariance, and Scatter Plots\n",
    "\n",
    "I next wanted to see whether there was a relationship between the number of reviews and the availability of a certain place. My initial hypothesis was that the number of reviews would drive traffic towards that particular listing and the number of days of availability would likely be lower.\n",
    "\n",
    "An initial glance at the covariance and correlation numbers however indicate a positive relationship, with availabilities rising with the number of reviews. Despite this having contradicted my previous hypothesis, the degree of correlation is still very low, 0.076 for 30 day availability and rising to 0.25 for 365 day availability.\n",
    "\n",
    "Further regression and confidence interval testing could be conducted to test the relationship."
   ]
  },
  {
   "cell_type": "code",
   "execution_count": 22,
   "metadata": {},
   "outputs": [
    {
     "data": {
      "text/html": [
       "<div>\n",
       "<style>\n",
       "    .dataframe thead tr:only-child th {\n",
       "        text-align: right;\n",
       "    }\n",
       "\n",
       "    .dataframe thead th {\n",
       "        text-align: left;\n",
       "    }\n",
       "\n",
       "    .dataframe tbody tr th {\n",
       "        vertical-align: top;\n",
       "    }\n",
       "</style>\n",
       "<table border=\"1\" class=\"dataframe\">\n",
       "  <thead>\n",
       "    <tr style=\"text-align: right;\">\n",
       "      <th></th>\n",
       "      <th>number_of_reviews</th>\n",
       "      <th>availability_30</th>\n",
       "      <th>availability_60</th>\n",
       "      <th>availability_90</th>\n",
       "      <th>availability_365</th>\n",
       "    </tr>\n",
       "  </thead>\n",
       "  <tbody>\n",
       "    <tr>\n",
       "      <th>number_of_reviews</th>\n",
       "      <td>2920.842855</td>\n",
       "      <td>36.806662</td>\n",
       "      <td>167.071886</td>\n",
       "      <td>350.233407</td>\n",
       "      <td>1789.972737</td>\n",
       "    </tr>\n",
       "    <tr>\n",
       "      <th>availability_30</th>\n",
       "      <td>36.806662</td>\n",
       "      <td>79.512775</td>\n",
       "      <td>154.397444</td>\n",
       "      <td>225.189157</td>\n",
       "      <td>577.481994</td>\n",
       "    </tr>\n",
       "    <tr>\n",
       "      <th>availability_60</th>\n",
       "      <td>167.071886</td>\n",
       "      <td>154.397444</td>\n",
       "      <td>362.066191</td>\n",
       "      <td>559.026453</td>\n",
       "      <td>1476.187556</td>\n",
       "    </tr>\n",
       "    <tr>\n",
       "      <th>availability_90</th>\n",
       "      <td>350.233407</td>\n",
       "      <td>225.189157</td>\n",
       "      <td>559.026453</td>\n",
       "      <td>938.298025</td>\n",
       "      <td>2640.572744</td>\n",
       "    </tr>\n",
       "    <tr>\n",
       "      <th>availability_365</th>\n",
       "      <td>1789.972737</td>\n",
       "      <td>577.481994</td>\n",
       "      <td>1476.187556</td>\n",
       "      <td>2640.572744</td>\n",
       "      <td>17917.265460</td>\n",
       "    </tr>\n",
       "  </tbody>\n",
       "</table>\n",
       "</div>"
      ],
      "text/plain": [
       "                   number_of_reviews  availability_30  availability_60  \\\n",
       "number_of_reviews        2920.842855        36.806662       167.071886   \n",
       "availability_30            36.806662        79.512775       154.397444   \n",
       "availability_60           167.071886       154.397444       362.066191   \n",
       "availability_90           350.233407       225.189157       559.026453   \n",
       "availability_365         1789.972737       577.481994      1476.187556   \n",
       "\n",
       "                   availability_90  availability_365  \n",
       "number_of_reviews       350.233407       1789.972737  \n",
       "availability_30         225.189157        577.481994  \n",
       "availability_60         559.026453       1476.187556  \n",
       "availability_90         938.298025       2640.572744  \n",
       "availability_365       2640.572744      17917.265460  "
      ]
     },
     "execution_count": 22,
     "metadata": {},
     "output_type": "execute_result"
    }
   ],
   "source": [
    "avails = ['number_of_reviews','availability_30','availability_60','availability_90','availability_365']\n",
    "filtered_df[avails].cov()"
   ]
  },
  {
   "cell_type": "code",
   "execution_count": 23,
   "metadata": {},
   "outputs": [
    {
     "data": {
      "text/html": [
       "<div>\n",
       "<style>\n",
       "    .dataframe thead tr:only-child th {\n",
       "        text-align: right;\n",
       "    }\n",
       "\n",
       "    .dataframe thead th {\n",
       "        text-align: left;\n",
       "    }\n",
       "\n",
       "    .dataframe tbody tr th {\n",
       "        vertical-align: top;\n",
       "    }\n",
       "</style>\n",
       "<table border=\"1\" class=\"dataframe\">\n",
       "  <thead>\n",
       "    <tr style=\"text-align: right;\">\n",
       "      <th></th>\n",
       "      <th>number_of_reviews</th>\n",
       "      <th>availability_30</th>\n",
       "      <th>availability_60</th>\n",
       "      <th>availability_90</th>\n",
       "      <th>availability_365</th>\n",
       "    </tr>\n",
       "  </thead>\n",
       "  <tbody>\n",
       "    <tr>\n",
       "      <th>number_of_reviews</th>\n",
       "      <td>1.000000</td>\n",
       "      <td>0.076375</td>\n",
       "      <td>0.162463</td>\n",
       "      <td>0.211560</td>\n",
       "      <td>0.247432</td>\n",
       "    </tr>\n",
       "    <tr>\n",
       "      <th>availability_30</th>\n",
       "      <td>0.076375</td>\n",
       "      <td>1.000000</td>\n",
       "      <td>0.909971</td>\n",
       "      <td>0.824439</td>\n",
       "      <td>0.483820</td>\n",
       "    </tr>\n",
       "    <tr>\n",
       "      <th>availability_60</th>\n",
       "      <td>0.162463</td>\n",
       "      <td>0.909971</td>\n",
       "      <td>1.000000</td>\n",
       "      <td>0.959109</td>\n",
       "      <td>0.579578</td>\n",
       "    </tr>\n",
       "    <tr>\n",
       "      <th>availability_90</th>\n",
       "      <td>0.211560</td>\n",
       "      <td>0.824439</td>\n",
       "      <td>0.959109</td>\n",
       "      <td>1.000000</td>\n",
       "      <td>0.644009</td>\n",
       "    </tr>\n",
       "    <tr>\n",
       "      <th>availability_365</th>\n",
       "      <td>0.247432</td>\n",
       "      <td>0.483820</td>\n",
       "      <td>0.579578</td>\n",
       "      <td>0.644009</td>\n",
       "      <td>1.000000</td>\n",
       "    </tr>\n",
       "  </tbody>\n",
       "</table>\n",
       "</div>"
      ],
      "text/plain": [
       "                   number_of_reviews  availability_30  availability_60  \\\n",
       "number_of_reviews           1.000000         0.076375         0.162463   \n",
       "availability_30             0.076375         1.000000         0.909971   \n",
       "availability_60             0.162463         0.909971         1.000000   \n",
       "availability_90             0.211560         0.824439         0.959109   \n",
       "availability_365            0.247432         0.483820         0.579578   \n",
       "\n",
       "                   availability_90  availability_365  \n",
       "number_of_reviews         0.211560          0.247432  \n",
       "availability_30           0.824439          0.483820  \n",
       "availability_60           0.959109          0.579578  \n",
       "availability_90           1.000000          0.644009  \n",
       "availability_365          0.644009          1.000000  "
      ]
     },
     "execution_count": 23,
     "metadata": {},
     "output_type": "execute_result"
    }
   ],
   "source": [
    "filtered_df[avails].corr()"
   ]
  },
  {
   "cell_type": "markdown",
   "metadata": {},
   "source": [
    "I first learned to plot the scatter graph with matplotlab before utilizing the seaborn package for easier visualization of the confidence intervals.\n",
    "\n",
    "In accordance with the low positive correlation values, there doesnt seem to be a very clear relationship at a first glance of the scatter plot.\n",
    "\n",
    "The best fit lines created with the seaborn plots do show a stronger positive correlation as we move from 30 day availabilities to 365 day availabilities. **This stronger correlation should not be exaggerated however as there might not be a clear relationship between 30 and 365 day bookings due to seasonality and other factors.**"
   ]
  },
  {
   "cell_type": "code",
   "execution_count": 24,
   "metadata": {},
   "outputs": [
    {
     "data": {
      "image/png": "[encoded data removed]",
      "text/plain": [
       "<matplotlib.figure.Figure at 0x10b3982b0>"
      ]
     },
     "metadata": {},
     "output_type": "display_data"
    }
   ],
   "source": [
    "fig = plt.figure()\n",
    "ax = fig.add_subplot(1,1,1)\n",
    "ax.scatter(filtered_df['number_of_reviews'],filtered_df['availability_30'])\n",
    "plt.title('Scatter plot of number of reviews and 30 day availability')\n",
    "plt.xlabel('Number of Reviews')\n",
    "plt.ylabel('Availability in 30 day period')\n",
    "plt.show()"
   ]
  },
  {
   "cell_type": "code",
   "execution_count": 25,
   "metadata": {},
   "outputs": [
    {
     "data": {
      "text/plain": [
       "<matplotlib.axes._subplots.AxesSubplot at 0x109e513c8>"
      ]
     },
     "execution_count": 25,
     "metadata": {},
     "output_type": "execute_result"
    },
    {
     "data": {
      "image/png": "[encoded data removed]",
      "text/plain": [
       "<matplotlib.figure.Figure at 0x10b36aa90>"
      ]
     },
     "metadata": {},
     "output_type": "display_data"
    }
   ],
   "source": [
    "sns.regplot(filtered_df['number_of_reviews'],filtered_df['availability_30'],ci=95)"
   ]
  },
  {
   "cell_type": "code",
   "execution_count": 26,
   "metadata": {},
   "outputs": [
    {
     "data": {
      "text/plain": [
       "<matplotlib.axes._subplots.AxesSubplot at 0x10cdf5240>"
      ]
     },
     "execution_count": 26,
     "metadata": {},
     "output_type": "execute_result"
    },
    {
     "data": {
      "image/png": "[encoded data removed]",
      "text/plain": [
       "<matplotlib.figure.Figure at 0x10b3deb00>"
      ]
     },
     "metadata": {},
     "output_type": "display_data"
    }
   ],
   "source": [
    "sns.regplot(filtered_df['number_of_reviews'],filtered_df['availability_365'],ci=95)"
   ]
  },
  {
   "cell_type": "markdown",
   "metadata": {},
   "source": [
    "Just to consolidate my knowledge of how to identify relationships between variables, I chose an intuitive pair of variables in \"accomodates\" and \"bedrooms\" to look at. The correlation as expected was heavily positive at 0.73 and the resulting scatter plot tended towards the top right hand corner, fitting in with the expected relationship between these two variables."
   ]
  },
  {
   "cell_type": "code",
   "execution_count": 27,
   "metadata": {},
   "outputs": [
    {
     "data": {
      "text/html": [
       "<div>\n",
       "<style>\n",
       "    .dataframe thead tr:only-child th {\n",
       "        text-align: right;\n",
       "    }\n",
       "\n",
       "    .dataframe thead th {\n",
       "        text-align: left;\n",
       "    }\n",
       "\n",
       "    .dataframe tbody tr th {\n",
       "        vertical-align: top;\n",
       "    }\n",
       "</style>\n",
       "<table border=\"1\" class=\"dataframe\">\n",
       "  <thead>\n",
       "    <tr style=\"text-align: right;\">\n",
       "      <th></th>\n",
       "      <th>accommodates</th>\n",
       "      <th>bedrooms</th>\n",
       "    </tr>\n",
       "  </thead>\n",
       "  <tbody>\n",
       "    <tr>\n",
       "      <th>accommodates</th>\n",
       "      <td>1.000000</td>\n",
       "      <td>0.727765</td>\n",
       "    </tr>\n",
       "    <tr>\n",
       "      <th>bedrooms</th>\n",
       "      <td>0.727765</td>\n",
       "      <td>1.000000</td>\n",
       "    </tr>\n",
       "  </tbody>\n",
       "</table>\n",
       "</div>"
      ],
      "text/plain": [
       "              accommodates  bedrooms\n",
       "accommodates      1.000000  0.727765\n",
       "bedrooms          0.727765  1.000000"
      ]
     },
     "execution_count": 27,
     "metadata": {},
     "output_type": "execute_result"
    }
   ],
   "source": [
    "filtered_df[['accommodates','bedrooms']].corr()"
   ]
  },
  {
   "cell_type": "code",
   "execution_count": 28,
   "metadata": {},
   "outputs": [
    {
     "data": {
      "image/png": "[encoded data removed]",
      "text/plain": [
       "<matplotlib.figure.Figure at 0x10b36a470>"
      ]
     },
     "metadata": {},
     "output_type": "display_data"
    }
   ],
   "source": [
    "fig = plt.figure()\n",
    "ax = fig.add_subplot(1,1,1)\n",
    "ax.scatter(filtered_df['accommodates'],filtered_df['bedrooms'])\n",
    "plt.show()"
   ]
  },
  {
   "cell_type": "markdown",
   "metadata": {},
   "source": [
    "### Multiple Linear Regression\n",
    "To test the capability of other packages and to understand more about the relationship between multiple variables and 30 day availability, I used statsmodel.api to construct a simple multiple linear regression model.\n",
    "\n",
    "<span style = \"color:red\">Important</span><br>\n",
    "While this is certainly a preliminary model, it would seem that the factors chosen below are not very predictive of 30 day availability, with an R-squared value of only 0.025. As only purely numerical variables are included, the result would be much more accurate if we had been able to include nominal values as well such as the type of bed or the type of amenities.\n",
    "\n",
    "To do so we would have to recode the appropriate labels. For \"type_of_bed\" for example, a different numerical value can be given to each type of bed: 1 for proper bed and 2 for pull out sofa.\n",
    "\n",
    "For amenities, it would be difficult to account for the different kinds of amenities combinations available (tv and wifi vs. parking, wifi, and satellite tv). One possible solution would be to create a scoring system that rates these different amenities. It would be even more useful if these overall scores could be modified to fit the preferences of the individual customer."
   ]
  },
  {
   "cell_type": "code",
   "execution_count": 31,
   "metadata": {},
   "outputs": [
    {
     "data": {
      "text/html": [
       "<table class=\"simpletable\">\n",
       "<caption>OLS Regression Results</caption>\n",
       "<tr>\n",
       "  <th>Dep. Variable:</th>     <td>availability_30</td> <th>  R-squared:         </th> <td>   0.025</td> \n",
       "</tr>\n",
       "<tr>\n",
       "  <th>Model:</th>                   <td>OLS</td>       <th>  Adj. R-squared:    </th> <td>   0.024</td> \n",
       "</tr>\n",
       "<tr>\n",
       "  <th>Method:</th>             <td>Least Squares</td>  <th>  F-statistic:       </th> <td>   21.72</td> \n",
       "</tr>\n",
       "<tr>\n",
       "  <th>Date:</th>             <td>Tue, 20 Feb 2018</td> <th>  Prob (F-statistic):</th> <td>5.99e-33</td> \n",
       "</tr>\n",
       "<tr>\n",
       "  <th>Time:</th>                 <td>12:35:07</td>     <th>  Log-Likelihood:    </th> <td> -24152.</td> \n",
       "</tr>\n",
       "<tr>\n",
       "  <th>No. Observations:</th>      <td>  6720</td>      <th>  AIC:               </th> <td>4.832e+04</td>\n",
       "</tr>\n",
       "<tr>\n",
       "  <th>Df Residuals:</th>          <td>  6711</td>      <th>  BIC:               </th> <td>4.838e+04</td>\n",
       "</tr>\n",
       "<tr>\n",
       "  <th>Df Model:</th>              <td>     8</td>      <th>                     </th>     <td> </td>    \n",
       "</tr>\n",
       "<tr>\n",
       "  <th>Covariance Type:</th>      <td>nonrobust</td>    <th>                     </th>     <td> </td>    \n",
       "</tr>\n",
       "</table>\n",
       "<table class=\"simpletable\">\n",
       "<tr>\n",
       "          <td></td>             <th>coef</th>     <th>std err</th>      <th>t</th>      <th>P>|t|</th>  <th>[0.025</th>    <th>0.975]</th>  \n",
       "</tr>\n",
       "<tr>\n",
       "  <th>const</th>             <td>    7.8278</td> <td>    0.371</td> <td>   21.084</td> <td> 0.000</td> <td>    7.100</td> <td>    8.556</td>\n",
       "</tr>\n",
       "<tr>\n",
       "  <th>number_of_reviews</th> <td>    0.0151</td> <td>    0.002</td> <td>    7.385</td> <td> 0.000</td> <td>    0.011</td> <td>    0.019</td>\n",
       "</tr>\n",
       "<tr>\n",
       "  <th>price</th>             <td>    0.0027</td> <td>    0.000</td> <td>    6.404</td> <td> 0.000</td> <td>    0.002</td> <td>    0.004</td>\n",
       "</tr>\n",
       "<tr>\n",
       "  <th>accommodates</th>      <td>    0.2481</td> <td>    0.102</td> <td>    2.443</td> <td> 0.015</td> <td>    0.049</td> <td>    0.447</td>\n",
       "</tr>\n",
       "<tr>\n",
       "  <th>bathrooms</th>         <td>    0.6099</td> <td>    0.200</td> <td>    3.052</td> <td> 0.002</td> <td>    0.218</td> <td>    1.002</td>\n",
       "</tr>\n",
       "<tr>\n",
       "  <th>bedrooms</th>          <td>   -1.2743</td> <td>    0.206</td> <td>   -6.189</td> <td> 0.000</td> <td>   -1.678</td> <td>   -0.871</td>\n",
       "</tr>\n",
       "<tr>\n",
       "  <th>beds</th>              <td>   -0.1636</td> <td>    0.185</td> <td>   -0.887</td> <td> 0.375</td> <td>   -0.525</td> <td>    0.198</td>\n",
       "</tr>\n",
       "<tr>\n",
       "  <th>years_being_host</th>  <td>   -0.3612</td> <td>    0.057</td> <td>   -6.294</td> <td> 0.000</td> <td>   -0.474</td> <td>   -0.249</td>\n",
       "</tr>\n",
       "<tr>\n",
       "  <th>minimum_nights</th>    <td>    0.0163</td> <td>    0.006</td> <td>    2.588</td> <td> 0.010</td> <td>    0.004</td> <td>    0.029</td>\n",
       "</tr>\n",
       "</table>\n",
       "<table class=\"simpletable\">\n",
       "<tr>\n",
       "  <th>Omnibus:</th>       <td>995.957</td> <th>  Durbin-Watson:     </th> <td>   1.893</td>\n",
       "</tr>\n",
       "<tr>\n",
       "  <th>Prob(Omnibus):</th> <td> 0.000</td>  <th>  Jarque-Bera (JB):  </th> <td>1505.680</td>\n",
       "</tr>\n",
       "<tr>\n",
       "  <th>Skew:</th>          <td> 1.153</td>  <th>  Prob(JB):          </th> <td>    0.00</td>\n",
       "</tr>\n",
       "<tr>\n",
       "  <th>Kurtosis:</th>      <td> 3.250</td>  <th>  Cond. No.          </th> <td>1.29e+03</td>\n",
       "</tr>\n",
       "</table>"
      ],
      "text/plain": [
       "<class 'statsmodels.iolib.summary.Summary'>\n",
       "\"\"\"\n",
       "                            OLS Regression Results                            \n",
       "==============================================================================\n",
       "Dep. Variable:        availability_30   R-squared:                       0.025\n",
       "Model:                            OLS   Adj. R-squared:                  0.024\n",
       "Method:                 Least Squares   F-statistic:                     21.72\n",
       "Date:                Tue, 20 Feb 2018   Prob (F-statistic):           5.99e-33\n",
       "Time:                        12:35:07   Log-Likelihood:                -24152.\n",
       "No. Observations:                6720   AIC:                         4.832e+04\n",
       "Df Residuals:                    6711   BIC:                         4.838e+04\n",
       "Df Model:                           8                                         \n",
       "Covariance Type:            nonrobust                                         \n",
       "=====================================================================================\n",
       "                        coef    std err          t      P>|t|      [0.025      0.975]\n",
       "-------------------------------------------------------------------------------------\n",
       "const                 7.8278      0.371     21.084      0.000       7.100       8.556\n",
       "number_of_reviews     0.0151      0.002      7.385      0.000       0.011       0.019\n",
       "price                 0.0027      0.000      6.404      0.000       0.002       0.004\n",
       "accommodates          0.2481      0.102      2.443      0.015       0.049       0.447\n",
       "bathrooms             0.6099      0.200      3.052      0.002       0.218       1.002\n",
       "bedrooms             -1.2743      0.206     -6.189      0.000      -1.678      -0.871\n",
       "beds                 -0.1636      0.185     -0.887      0.375      -0.525       0.198\n",
       "years_being_host     -0.3612      0.057     -6.294      0.000      -0.474      -0.249\n",
       "minimum_nights        0.0163      0.006      2.588      0.010       0.004       0.029\n",
       "==============================================================================\n",
       "Omnibus:                      995.957   Durbin-Watson:                   1.893\n",
       "Prob(Omnibus):                  0.000   Jarque-Bera (JB):             1505.680\n",
       "Skew:                           1.153   Prob(JB):                         0.00\n",
       "Kurtosis:                       3.250   Cond. No.                     1.29e+03\n",
       "==============================================================================\n",
       "\n",
       "Warnings:\n",
       "[1] Standard Errors assume that the covariance matrix of the errors is correctly specified.\n",
       "[2] The condition number is large, 1.29e+03. This might indicate that there are\n",
       "strong multicollinearity or other numerical problems.\n",
       "\"\"\""
      ]
     },
     "execution_count": 31,
     "metadata": {},
     "output_type": "execute_result"
    }
   ],
   "source": [
    "y = filtered_df['availability_30']\n",
    "X = filtered_df[['number_of_reviews','price','accommodates','bathrooms','bedrooms','beds','years_being_host','minimum_nights']]\n",
    "X = sm.add_constant(X)\n",
    "model11 = sm.OLS(y, X).fit()\n",
    "model11.summary()"
   ]
  },
  {
   "cell_type": "markdown",
   "metadata": {},
   "source": [
    "### Boxplots\n",
    "\n",
    "It seemed interesting to see where most of the reviews lie and a boxplot seemed to be an intuitive method of displaying these figures side by side. \n",
    "\n",
    "While a single boxplot was simple and required the same syntax as some of the above graphs, trying to plot all the reviews side by side as subplots was challenging. It was through looping through an array of review column headings and creating a subplot/boxplot for each one that this was eventually created. \n",
    "\n",
    "The box plots show that most of the reviews tend within the 8-10 range, with almost all of accuracy, checkin, and communication ratings coming in at 10. "
   ]
  },
  {
   "cell_type": "code",
   "execution_count": 122,
   "metadata": {},
   "outputs": [
    {
     "data": {
      "image/png": "[encoded data removed]",
      "text/plain": [
       "<matplotlib.figure.Figure at 0x10c550278>"
      ]
     },
     "metadata": {},
     "output_type": "display_data"
    }
   ],
   "source": [
    "#array of different reviews\n",
    "reviews = ['review_scores_accuracy','review_scores_cleanliness','review_scores_checkin','review_scores_communication','review_scores_location','review_scores_value']\n",
    "fig = plt.figure(figsize=(20,5))\n",
    "\n",
    "#iterate over all reviews, while keeping a counter for the position where we're at to determine subplot position\n",
    "for i, review in enumerate(reviews):\n",
    "    plt.subplot(1,len(reviews),i+1)\n",
    "    plt.boxplot(filtered_df[review])\n",
    "    plt.xlabel(review)\n",
    "    \n",
    "#format graphs to be more spaced out and display\n",
    "plt.tight_layout()\n",
    "plt.show()"
   ]
  },
  {
   "cell_type": "markdown",
   "metadata": {},
   "source": [
    "### Histograms\n",
    "For nominal values such as \"neighbourhood\", the best way to compare across all the unique values within this variable is through a bar graph.\n",
    "\n",
    "Through the histogram, we can see that the highest number of listings by far is the Mission district. Meanwhile, Bernal Heights, Richmond District, SoMa, and NOPA are the next densest areas for listings."
   ]
  },
  {
   "cell_type": "code",
   "execution_count": 119,
   "metadata": {},
   "outputs": [
    {
     "data": {
      "image/png": "[encoded data removed]",
      "text/plain": [
       "<matplotlib.figure.Figure at 0x1c170cae10>"
      ]
     },
     "metadata": {},
     "output_type": "display_data"
    }
   ],
   "source": [
    "fig = plt.figure(figsize=(30,5))\n",
    "ax = fig.add_subplot(1,1,1)\n",
    "ax.hist(filtered_df['neighbourhood'],bins=112)\n",
    "\n",
    "plt.setp(ax.get_xticklabels(), rotation=50, horizontalalignment='right')\n",
    "plt.tight_layout()\n",
    "plt.title('Number of listings by neighbourhood',fontdict = {'fontsize':30})\n",
    "plt.xlabel('Neighbourhoods',fontdict={'fontsize':20})\n",
    "plt.ylabel('# of Listings',fontdict={'fontsize':20})\n",
    "plt.show()"
   ]
  },
  {
   "cell_type": "markdown",
   "metadata": {},
   "source": [
    "It is also possible to do a deeper dive into any particular district of type of housing by specifying the data frame from which to read. In the below case, we take a deeper look at the Mission District with regards to the relationship between 'bedrooms' and 'price'. \n",
    "\n",
    "While there is a positive correlation that could have been predicted, there are a few outliers in the 1 and 2 bedroom categories. These outliers could be easily explainable by them being \"luxury\" properties that command the premium fee."
   ]
  },
  {
   "cell_type": "code",
   "execution_count": 135,
   "metadata": {},
   "outputs": [
    {
     "data": {
      "image/png": "[encoded data removed]",
      "text/plain": [
       "<matplotlib.figure.Figure at 0x1c15faf668>"
      ]
     },
     "metadata": {},
     "output_type": "display_data"
    }
   ],
   "source": [
    "mission = filtered_df[filtered_df['neighbourhood']=='Mission District']\n",
    "fig = plt.figure()\n",
    "ax = fig.add_subplot(1,1,1)\n",
    "ax.scatter(mission['bedrooms'],mission['price'])\n",
    "plt.title('Relationship between bedrooms and price in Mission District')\n",
    "plt.xlabel('# of bedrooms')\n",
    "plt.ylabel('Price')\n",
    "plt.show()"
   ]
  },
  {
   "cell_type": "code",
   "execution_count": 152,
   "metadata": {},
   "outputs": [],
   "source": [
    "filtered_df.to_csv('new_filtered_data.csv')"
   ]
  },
  {
   "cell_type": "markdown",
   "metadata": {
    "collapsed": true
   },
   "source": [
    "## To be continued in Part 2: Machine Learning Models\n",
    "\n",
    "Upon the construction of some statistical models and graphs, it would seem that the data hasn't actually been fully cleaned yet. A more thorough recoding of the data, including categorizing columns and cleaning under represented data would make the data much more usable for machine learning models."
   ]
  }
 ],
 "metadata": {
  "kernelspec": {
   "display_name": "Python 3",
   "language": "python",
   "name": "python3"
  },
  "language_info": {
   "codemirror_mode": {
    "name": "ipython",
    "version": 3
   },
   "file_extension": ".py",
   "mimetype": "text/x-python",
   "name": "python",
   "nbconvert_exporter": "python",
   "pygments_lexer": "ipython3",
   "version": "3.6.3"
  }
 },
 "nbformat": 4,
 "nbformat_minor": 2
}
