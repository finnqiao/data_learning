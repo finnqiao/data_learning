{
 "cells": [
  {
   "cell_type": "markdown",
   "metadata": {},
   "source": [
    "# Part 2: Further Data Cleaning and Machine Learning Models\n",
    "\n",
    "Upon examining the graphs and the input for machine learning models, I realized there was more to do with regards to data cleaning.\n",
    "\n",
    "This second round of cleaning was focused on columns that require recoding due to the need for binary variables, categorical variables in place of nominal values, data that are in arrays, and data with values that don't necessarily make sense. The respective variables and rationales for recording are listed below:\n",
    "\n",
    "**Binary variables (0,1) needed**\n",
    "- host_is_superhost\n",
    "- host_has_profile_pic\n",
    "- host_identity_verified\n",
    "- instant_bookable\n",
    "\n",
    "**Values need categories**\n",
    "- cancellation_policy\n",
    "- room_type\n",
    "- property_type\n",
    "- neighbourhood\n",
    "- host_response_time\n",
    "\n",
    "**Values are in arrays**\n",
    "- amenities\n",
    "- host_verifications\n",
    "\n",
    "**Values need to make sense**\n",
    "- price values should be > 0"
   ]
  },
  {
   "cell_type": "code",
   "execution_count": 589,
   "metadata": {},
   "outputs": [],
   "source": [
    "import sys\n",
    "import datetime\n",
    "import pandas as pd\n",
    "import matplotlib as ml\n",
    "import matplotlib.pyplot as plt\n",
    "import numpy as np\n",
    "import seaborn as sns\n",
    "from sklearn import model_selection, datasets, svm, cross_validation, tree, preprocessing, metrics\n",
    "import sklearn.ensemble as ske\n",
    "from sklearn.model_selection import train_test_split\n",
    "import statsmodels.api as sm\n",
    "\n",
    "%matplotlib inline\n",
    "\n",
    "data = pd.read_csv('new_filtered_data.csv', encoding = \"ISO-8859-1\")"
   ]
  },
  {
   "cell_type": "markdown",
   "metadata": {},
   "source": [
    "### Binary Variables\n",
    "\n",
    "The first data recoding that can be done is for columns that currently have 't' and 'f' values. These variables will become more useable in regression and machine learning models if they were represented as 0 and 1. I have thus used the map method to convert them to 0 for false and 1 for true. I could have also used the apply lambda:x method for this as well."
   ]
  },
  {
   "cell_type": "code",
   "execution_count": 590,
   "metadata": {},
   "outputs": [
    {
     "data": {
      "text/html": [
       "<div>\n",
       "<style>\n",
       "    .dataframe thead tr:only-child th {\n",
       "        text-align: right;\n",
       "    }\n",
       "\n",
       "    .dataframe thead th {\n",
       "        text-align: left;\n",
       "    }\n",
       "\n",
       "    .dataframe tbody tr th {\n",
       "        vertical-align: top;\n",
       "    }\n",
       "</style>\n",
       "<table border=\"1\" class=\"dataframe\">\n",
       "  <thead>\n",
       "    <tr style=\"text-align: right;\">\n",
       "      <th></th>\n",
       "      <th>host_is_superhost</th>\n",
       "      <th>host_has_profile_pic</th>\n",
       "      <th>host_identity_verified</th>\n",
       "      <th>instant_bookable</th>\n",
       "    </tr>\n",
       "  </thead>\n",
       "  <tbody>\n",
       "    <tr>\n",
       "      <th>0</th>\n",
       "      <td>0</td>\n",
       "      <td>1</td>\n",
       "      <td>1</td>\n",
       "      <td>0</td>\n",
       "    </tr>\n",
       "    <tr>\n",
       "      <th>1</th>\n",
       "      <td>0</td>\n",
       "      <td>1</td>\n",
       "      <td>0</td>\n",
       "      <td>1</td>\n",
       "    </tr>\n",
       "    <tr>\n",
       "      <th>2</th>\n",
       "      <td>1</td>\n",
       "      <td>1</td>\n",
       "      <td>1</td>\n",
       "      <td>1</td>\n",
       "    </tr>\n",
       "    <tr>\n",
       "      <th>3</th>\n",
       "      <td>0</td>\n",
       "      <td>1</td>\n",
       "      <td>0</td>\n",
       "      <td>0</td>\n",
       "    </tr>\n",
       "    <tr>\n",
       "      <th>4</th>\n",
       "      <td>0</td>\n",
       "      <td>1</td>\n",
       "      <td>1</td>\n",
       "      <td>1</td>\n",
       "    </tr>\n",
       "  </tbody>\n",
       "</table>\n",
       "</div>"
      ],
      "text/plain": [
       "   host_is_superhost  host_has_profile_pic  host_identity_verified  \\\n",
       "0                  0                     1                       1   \n",
       "1                  0                     1                       0   \n",
       "2                  1                     1                       1   \n",
       "3                  0                     1                       0   \n",
       "4                  0                     1                       1   \n",
       "\n",
       "   instant_bookable  \n",
       "0                 0  \n",
       "1                 1  \n",
       "2                 1  \n",
       "3                 0  \n",
       "4                 1  "
      ]
     },
     "execution_count": 590,
     "metadata": {},
     "output_type": "execute_result"
    }
   ],
   "source": [
    "# Binary variables (0,1) needed\n",
    "\n",
    "# host_is_superhost\n",
    "# host_has_profile_pic\n",
    "# host_identity_verified\n",
    "# instant_bookable\n",
    "\n",
    "binary_vars = ['host_is_superhost','host_has_profile_pic','host_identity_verified','instant_bookable']\n",
    "for var in binary_vars:\n",
    "    data[var] = data[var].map({'t': 1, 'f': 0})\n",
    "data[binary_vars].head()"
   ]
  },
  {
   "cell_type": "markdown",
   "metadata": {},
   "source": [
    "### Numerical Categories\n",
    "\n",
    "There are certain columns that have categorical data that can be recoded into numerical categories so that they are more useable in machine learning models. Of the columns listed above, the 'neighbourhood' column has the most unique values at 56 and this column will be dealth with later once I am more familar with grouping techniques and the geographical grouping of San Francisco.\n",
    "\n",
    "I first ran value_counts() on all the other columns that I am recoding to see what the unique values are. This gives me a better idea of what the unique variables are and the presence of problems such as class imbalance.\n",
    "\n",
    "### Doing the same binary converting and numerical categories with scikit-learn\n",
    "I later learnt that the same mapping functions that I've been performing for all of these columns could be achieved through scikit-learn and other panda functions as well.\n",
    "\n",
    "Some methods are as follows:\n",
    "1. I could have changed the type of the column to \"category\" with the astype('type') method. I could then have used cat.codes to label them.\n",
    "2. I could have used one hot encoding as well to assign a new column to each unique value. the get_dummies method could be used to create such dummy columns. This method however could be an issue if there are too many categories to deal with, such as neighbourhood. That would create too many new columns and take up unecessary space.\n",
    "3. There are also methods through scikit-learn to create these new columns, such as fit_tranform and label binarizer and the resulting columns would have to be joined back to the original table. \n",
    "\n",
    "As these values have already been sorted with the mapping function, the current new columns will be used in their current states."
   ]
  },
  {
   "cell_type": "code",
   "execution_count": 591,
   "metadata": {},
   "outputs": [
    {
     "data": {
      "text/plain": [
       "strict             3095\n",
       "moderate           2258\n",
       "flexible           1348\n",
       "super_strict_30      17\n",
       "super_strict_60       2\n",
       "Name: cancellation_policy, dtype: int64"
      ]
     },
     "execution_count": 591,
     "metadata": {},
     "output_type": "execute_result"
    }
   ],
   "source": [
    "# Values need categories\n",
    "\n",
    "# cancellation_policy\n",
    "# room_type\n",
    "# property_type\n",
    "# neighbourhood\n",
    "# host_response_time\n",
    "\n",
    "data['cancellation_policy'].value_counts()"
   ]
  },
  {
   "cell_type": "code",
   "execution_count": 592,
   "metadata": {},
   "outputs": [
    {
     "data": {
      "text/plain": [
       "0    1\n",
       "1    0\n",
       "2    2\n",
       "3    1\n",
       "4    1\n",
       "Name: cancellation_recoded, dtype: int64"
      ]
     },
     "execution_count": 592,
     "metadata": {},
     "output_type": "execute_result"
    }
   ],
   "source": [
    "data['cancellation_recoded'] = data['cancellation_policy'].map({'strict': 0, 'moderate': 1, 'flexible':2, 'super_strict_30':3, 'super_strict_60':4})\n",
    "data['cancellation_recoded'].head()"
   ]
  },
  {
   "cell_type": "code",
   "execution_count": 593,
   "metadata": {},
   "outputs": [
    {
     "data": {
      "text/plain": [
       "Entire home/apt    4007\n",
       "Private room       2603\n",
       "Shared room         110\n",
       "Name: room_type, dtype: int64"
      ]
     },
     "execution_count": 593,
     "metadata": {},
     "output_type": "execute_result"
    }
   ],
   "source": [
    "data['room_type'].value_counts()"
   ]
  },
  {
   "cell_type": "code",
   "execution_count": 594,
   "metadata": {},
   "outputs": [
    {
     "data": {
      "text/plain": [
       "0    1\n",
       "1    0\n",
       "2    0\n",
       "3    0\n",
       "4    0\n",
       "Name: room_type_recoded, dtype: int64"
      ]
     },
     "execution_count": 594,
     "metadata": {},
     "output_type": "execute_result"
    }
   ],
   "source": [
    "data['room_type_recoded'] = data['room_type'].map({'Entire home/apt': 0, 'Private room': 1, 'Shared room':2})\n",
    "data['room_type_recoded'].head()"
   ]
  },
  {
   "cell_type": "code",
   "execution_count": 595,
   "metadata": {},
   "outputs": [
    {
     "data": {
      "text/plain": [
       "Apartment             3531\n",
       "House                 2083\n",
       "Condominium            503\n",
       "Loft                    94\n",
       "Other                   85\n",
       "In-law                  67\n",
       "Bed & Breakfast         64\n",
       "Guest suite             56\n",
       "Townhouse               49\n",
       "Dorm                    35\n",
       "Boutique hotel          31\n",
       "Guesthouse              28\n",
       "Timeshare               25\n",
       "Hostel                  19\n",
       "Camper/RV               13\n",
       "Bungalow                12\n",
       "Cabin                    8\n",
       "Boat                     5\n",
       "Castle                   5\n",
       "Treehouse                2\n",
       "Villa                    2\n",
       "Cave                     1\n",
       "Serviced apartment       1\n",
       "Tent                     1\n",
       "Name: property_type, dtype: int64"
      ]
     },
     "execution_count": 595,
     "metadata": {},
     "output_type": "execute_result"
    }
   ],
   "source": [
    "data['property_type'].value_counts()"
   ]
  },
  {
   "cell_type": "code",
   "execution_count": 596,
   "metadata": {},
   "outputs": [
    {
     "data": {
      "text/plain": [
       "0    1\n",
       "1    0\n",
       "2    1\n",
       "3    1\n",
       "4    0\n",
       "Name: property_type_recoded, dtype: int64"
      ]
     },
     "execution_count": 596,
     "metadata": {},
     "output_type": "execute_result"
    }
   ],
   "source": [
    "data['property_type_recoded'] = data['property_type'].map({'Apartment': 0, 'House': 1, 'Condominum':2})\n",
    "data['property_type_recoded'].fillna(3, inplace=True)\n",
    "data['property_type_recoded'] = data['property_type_recoded'].astype('int64')\n",
    "data['property_type_recoded'].head()"
   ]
  },
  {
   "cell_type": "code",
   "execution_count": 597,
   "metadata": {},
   "outputs": [
    {
     "data": {
      "text/plain": [
       "within an hour        3247\n",
       "within a few hours    1339\n",
       "within a day           729\n",
       "a few days or more      52\n",
       "Name: host_response_time, dtype: int64"
      ]
     },
     "execution_count": 597,
     "metadata": {},
     "output_type": "execute_result"
    }
   ],
   "source": [
    "data['host_response_time'].value_counts()"
   ]
  },
  {
   "cell_type": "code",
   "execution_count": 598,
   "metadata": {},
   "outputs": [
    {
     "data": {
      "text/plain": [
       "0    0\n",
       "1    0\n",
       "2    0\n",
       "3    1\n",
       "4    0\n",
       "Name: response_recoded, dtype: int64"
      ]
     },
     "execution_count": 598,
     "metadata": {},
     "output_type": "execute_result"
    }
   ],
   "source": [
    "data['response_recoded'] = data['host_response_time'].map({'within an hour': 0, 'within a few hours': 1, 'within a day':2, 'a few days or more':3})\n",
    "data['response_recoded'].fillna(4, inplace=True)\n",
    "data['response_recoded'] = data['response_recoded'].astype('int64')\n",
    "data['response_recoded'].head()"
   ]
  },
  {
   "cell_type": "markdown",
   "metadata": {},
   "source": [
    "### Values are in Arrays\n",
    "\n",
    "Amenities and host_verifications are both columns in which most of the values are in the form of an array. There are thus multiple different combinations of amenities and verification methods available that differentiate each host. In my opinion the best way to intepret these columns would be to split the string and record them as individual \"words\" that contain the type of amenities and verification methods. \n",
    "\n",
    "These two variables are however unlikely to be of large significance to the dependent variable of price that we are examining in later models. Furthermore, as the below screenshots show, a listing with 6 amenities could cost 250 USD a night while another with 26 amenities could cost 10 USD a night. \n",
    "<img src=\"6_amenities.png\" width = 500px>\n",
    "<img src=\"26_amenities.png\" width = 500px>\n",
    "\n",
    "These two columns will be dropped from the model analysis for now but the method to clean them and aggregate the information in them will be done later."
   ]
  },
  {
   "cell_type": "markdown",
   "metadata": {},
   "source": [
    "### Values need to make sense\n",
    "\n",
    "While there are certain values like number of beds or bedrooms that are 0, those instances could theoretically be possible if it was a futon or if it was a studio without a bedroom. We will thus only be dropping entries for which the price is 0 for now."
   ]
  },
  {
   "cell_type": "code",
   "execution_count": 599,
   "metadata": {},
   "outputs": [
    {
     "data": {
      "text/plain": [
       "(6699, 50)"
      ]
     },
     "execution_count": 599,
     "metadata": {},
     "output_type": "execute_result"
    }
   ],
   "source": [
    "# Values need to make sense\n",
    "\n",
    "# price values should be > 0\n",
    "\n",
    "data = data.drop(data[(data['price']==0)].index)\n",
    "data.shape"
   ]
  },
  {
   "cell_type": "markdown",
   "metadata": {},
   "source": [
    "### Dropping zipcode and neighbourhood rows\n",
    "\n",
    "There is still the carry-over data from the previous cleaning session in which neighbourhood and zipcode entries were left in the data set. \n",
    "\n",
    "There are definitely ways to fill in such values. One possible way that comes to mind is running a categorical supervised machine learning model to predict such values as the longitude and latitude values are likely to be near perfect predictors of which zipcode or neighbourhood a listing is in.\n",
    "\n",
    "I have yet to learn how to fillna with the results of a machine learning model and since the missing entries make up around 1% of the initial data entries, these missing neighbourhood and zipcode entries will be dropped for now."
   ]
  },
  {
   "cell_type": "code",
   "execution_count": 600,
   "metadata": {},
   "outputs": [
    {
     "data": {
      "text/plain": [
       "(6610, 50)"
      ]
     },
     "execution_count": 600,
     "metadata": {},
     "output_type": "execute_result"
    }
   ],
   "source": [
    "data = data.dropna(axis=0, subset=[['neighbourhood', 'zipcode']])\n",
    "data.shape"
   ]
  },
  {
   "cell_type": "markdown",
   "metadata": {},
   "source": [
    "### Recoding price bands for categorical analysis\n",
    "\n",
    "To construct a supervised model based on categorical values, the variable of price has to be recoded such that it falls into certain categories. "
   ]
  },
  {
   "cell_type": "code",
   "execution_count": 601,
   "metadata": {},
   "outputs": [
    {
     "data": {
      "text/plain": [
       "0    120.0\n",
       "1     59.0\n",
       "2    159.0\n",
       "3    250.0\n",
       "4    169.0\n",
       "Name: price_per_bed, dtype: float64"
      ]
     },
     "execution_count": 601,
     "metadata": {},
     "output_type": "execute_result"
    }
   ],
   "source": [
    "data['price_per_bed']=data['price']/data['beds']\n",
    "data['price_per_bed'].head()"
   ]
  },
  {
   "cell_type": "code",
   "execution_count": 602,
   "metadata": {},
   "outputs": [
    {
     "data": {
      "text/plain": [
       "count     6610.000000\n",
       "mean       130.965284\n",
       "std        182.987576\n",
       "min          5.000000\n",
       "25%         80.000000\n",
       "50%        110.000000\n",
       "75%        150.000000\n",
       "max      10000.000000\n",
       "Name: price_per_bed, dtype: float64"
      ]
     },
     "execution_count": 602,
     "metadata": {},
     "output_type": "execute_result"
    }
   ],
   "source": [
    "data['price_per_bed'].describe()"
   ]
  },
  {
   "cell_type": "code",
   "execution_count": 603,
   "metadata": {},
   "outputs": [
    {
     "data": {
      "text/plain": [
       "<matplotlib.axes._subplots.AxesSubplot at 0x1c24f52f28>"
      ]
     },
     "execution_count": 603,
     "metadata": {},
     "output_type": "execute_result"
    },
    {
     "data": {
      "image/png": "[encoded data removed]",
      "text/plain": [
       "<matplotlib.figure.Figure at 0x1c185d21d0>"
      ]
     },
     "metadata": {},
     "output_type": "display_data"
    }
   ],
   "source": [
    "sns.distplot(data['price_per_bed'])"
   ]
  },
  {
   "cell_type": "code",
   "execution_count": 604,
   "metadata": {},
   "outputs": [
    {
     "data": {
      "text/plain": [
       "array([   5.        ,   46.93125   ,   59.        ,   66.33333333,\n",
       "         75.        ,   80.        ,   86.        ,   90.        ,\n",
       "         98.33333333,  100.        ,  110.        ,  119.        ,\n",
       "        125.        ,  133.33333333,  145.        ,  150.        ,\n",
       "        168.2       ,  187.5       ,  204.        ,  250.        ])"
      ]
     },
     "execution_count": 604,
     "metadata": {},
     "output_type": "execute_result"
    }
   ],
   "source": [
    "np.percentile(data['price_per_bed'], np.arange(0, 100, 5))"
   ]
  },
  {
   "cell_type": "code",
   "execution_count": 605,
   "metadata": {},
   "outputs": [
    {
     "data": {
      "text/plain": [
       "0    4\n",
       "1    3\n",
       "2    4\n",
       "3    5\n",
       "4    4\n",
       "Name: price_tiers, dtype: category\n",
       "Categories (5, int64): [1 < 2 < 3 < 4 < 5]"
      ]
     },
     "execution_count": 605,
     "metadata": {},
     "output_type": "execute_result"
    }
   ],
   "source": [
    "data['price_tiers'] = pd.cut(data['price_per_bed'], [0, 20, 50, 100, 200, 10000], labels=[1,2,3,4,5])\n",
    "data['price_tiers'].head()"
   ]
  },
  {
   "cell_type": "code",
   "execution_count": 606,
   "metadata": {},
   "outputs": [
    {
     "data": {
      "text/plain": [
       "4    2874\n",
       "3    2587\n",
       "5     666\n",
       "2     460\n",
       "1      23\n",
       "Name: price_tiers, dtype: int64"
      ]
     },
     "execution_count": 606,
     "metadata": {},
     "output_type": "execute_result"
    }
   ],
   "source": [
    "data['price_tiers'].value_counts()"
   ]
  },
  {
   "cell_type": "markdown",
   "metadata": {},
   "source": [
    "As noted previously, entries for descriptions are left intact for now for a potential NLP analysis later. The dataframe after this second round of cleaning comes in at 6610 rows, including an additional 4 recoded columns."
   ]
  },
  {
   "cell_type": "code",
   "execution_count": 607,
   "metadata": {},
   "outputs": [
    {
     "data": {
      "text/plain": [
       "Unnamed: 0                     6610\n",
       "id                             6610\n",
       "name                           6610\n",
       "summary                        6610\n",
       "space                          5133\n",
       "access                         4612\n",
       "interaction                    4471\n",
       "house_rules                    4938\n",
       "host_response_time             5276\n",
       "host_is_superhost              6610\n",
       "host_listings_count            6610\n",
       "host_verifications             6610\n",
       "host_has_profile_pic           6610\n",
       "host_identity_verified         6610\n",
       "neighbourhood                  6610\n",
       "zipcode                        6610\n",
       "latitude                       6610\n",
       "longitude                      6610\n",
       "property_type                  6610\n",
       "room_type                      6610\n",
       "accommodates                   6610\n",
       "bathrooms                      6610\n",
       "bedrooms                       6610\n",
       "beds                           6610\n",
       "bed_type                       6610\n",
       "amenities                      6610\n",
       "price                          6610\n",
       "security_deposit               6610\n",
       "cleaning_fee                   6610\n",
       "extra_people                   6610\n",
       "minimum_nights                 6610\n",
       "availability_30                6610\n",
       "availability_60                6610\n",
       "availability_90                6610\n",
       "availability_365               6610\n",
       "number_of_reviews              6610\n",
       "review_scores_rating           6610\n",
       "review_scores_accuracy         6610\n",
       "review_scores_cleanliness      6610\n",
       "review_scores_checkin          6610\n",
       "review_scores_communication    6610\n",
       "review_scores_location         6610\n",
       "review_scores_value            6610\n",
       "instant_bookable               6610\n",
       "cancellation_policy            6610\n",
       "years_being_host               6610\n",
       "cancellation_recoded           6610\n",
       "room_type_recoded              6610\n",
       "property_type_recoded          6610\n",
       "response_recoded               6610\n",
       "price_per_bed                  6610\n",
       "price_tiers                    6610\n",
       "dtype: int64"
      ]
     },
     "execution_count": 607,
     "metadata": {},
     "output_type": "execute_result"
    }
   ],
   "source": [
    "data.count()"
   ]
  },
  {
   "cell_type": "markdown",
   "metadata": {},
   "source": [
    "### Revisiting the multiple linear regression model from Part 1\n",
    "\n",
    "Back in part 1, we constructed a linear regression model from existing numerical variables. We repeat the same process with the recoded data to see if it explain 30 day availability better with these new factors.\n",
    "\n",
    "As can be seen from the resulting model, the R^2 value, although still relatively small at 0.134 is a huge improvement on the previous result. It can also be seen that whether a host is a superhost and the number of reviews received are insignificant in terms of determining 30 day availability. "
   ]
  },
  {
   "cell_type": "code",
   "execution_count": 608,
   "metadata": {},
   "outputs": [
    {
     "data": {
      "text/html": [
       "<table class=\"simpletable\">\n",
       "<caption>OLS Regression Results</caption>\n",
       "<tr>\n",
       "  <th>Dep. Variable:</th>     <td>availability_30</td> <th>  R-squared:         </th> <td>   0.134</td> \n",
       "</tr>\n",
       "<tr>\n",
       "  <th>Model:</th>                   <td>OLS</td>       <th>  Adj. R-squared:    </th> <td>   0.133</td> \n",
       "</tr>\n",
       "<tr>\n",
       "  <th>Method:</th>             <td>Least Squares</td>  <th>  F-statistic:       </th> <td>   85.16</td> \n",
       "</tr>\n",
       "<tr>\n",
       "  <th>Date:</th>             <td>Thu, 22 Feb 2018</td> <th>  Prob (F-statistic):</th> <td>7.04e-196</td>\n",
       "</tr>\n",
       "<tr>\n",
       "  <th>Time:</th>                 <td>13:42:25</td>     <th>  Log-Likelihood:    </th> <td> -23329.</td> \n",
       "</tr>\n",
       "<tr>\n",
       "  <th>No. Observations:</th>      <td>  6610</td>      <th>  AIC:               </th> <td>4.668e+04</td>\n",
       "</tr>\n",
       "<tr>\n",
       "  <th>Df Residuals:</th>          <td>  6597</td>      <th>  BIC:               </th> <td>4.677e+04</td>\n",
       "</tr>\n",
       "<tr>\n",
       "  <th>Df Model:</th>              <td>    12</td>      <th>                     </th>     <td> </td>    \n",
       "</tr>\n",
       "<tr>\n",
       "  <th>Covariance Type:</th>      <td>nonrobust</td>    <th>                     </th>     <td> </td>    \n",
       "</tr>\n",
       "</table>\n",
       "<table class=\"simpletable\">\n",
       "<tr>\n",
       "            <td></td>               <th>coef</th>     <th>std err</th>      <th>t</th>      <th>P>|t|</th>  <th>[0.025</th>    <th>0.975]</th>  \n",
       "</tr>\n",
       "<tr>\n",
       "  <th>const</th>                 <td>   15.8569</td> <td>    1.454</td> <td>   10.907</td> <td> 0.000</td> <td>   13.007</td> <td>   18.707</td>\n",
       "</tr>\n",
       "<tr>\n",
       "  <th>cancellation_recoded</th>  <td>   -0.7561</td> <td>    0.138</td> <td>   -5.475</td> <td> 0.000</td> <td>   -1.027</td> <td>   -0.485</td>\n",
       "</tr>\n",
       "<tr>\n",
       "  <th>room_type_recoded</th>     <td>    2.7582</td> <td>    0.229</td> <td>   12.070</td> <td> 0.000</td> <td>    2.310</td> <td>    3.206</td>\n",
       "</tr>\n",
       "<tr>\n",
       "  <th>property_type_recoded</th> <td>    0.5634</td> <td>    0.098</td> <td>    5.769</td> <td> 0.000</td> <td>    0.372</td> <td>    0.755</td>\n",
       "</tr>\n",
       "<tr>\n",
       "  <th>response_recoded</th>      <td>   -1.5656</td> <td>    0.073</td> <td>  -21.541</td> <td> 0.000</td> <td>   -1.708</td> <td>   -1.423</td>\n",
       "</tr>\n",
       "<tr>\n",
       "  <th>review_scores_rating</th>  <td>   -0.0873</td> <td>    0.015</td> <td>   -5.870</td> <td> 0.000</td> <td>   -0.116</td> <td>   -0.058</td>\n",
       "</tr>\n",
       "<tr>\n",
       "  <th>host_is_superhost</th>     <td>   -0.2082</td> <td>    0.254</td> <td>   -0.818</td> <td> 0.413</td> <td>   -0.707</td> <td>    0.291</td>\n",
       "</tr>\n",
       "<tr>\n",
       "  <th>number_of_reviews</th>     <td>   -0.0014</td> <td>    0.002</td> <td>   -0.679</td> <td> 0.497</td> <td>   -0.006</td> <td>    0.003</td>\n",
       "</tr>\n",
       "<tr>\n",
       "  <th>accommodates</th>          <td>    0.4723</td> <td>    0.085</td> <td>    5.579</td> <td> 0.000</td> <td>    0.306</td> <td>    0.638</td>\n",
       "</tr>\n",
       "<tr>\n",
       "  <th>bathrooms</th>             <td>    0.4329</td> <td>    0.189</td> <td>    2.292</td> <td> 0.022</td> <td>    0.063</td> <td>    0.803</td>\n",
       "</tr>\n",
       "<tr>\n",
       "  <th>bedrooms</th>              <td>   -0.8622</td> <td>    0.179</td> <td>   -4.823</td> <td> 0.000</td> <td>   -1.213</td> <td>   -0.512</td>\n",
       "</tr>\n",
       "<tr>\n",
       "  <th>years_being_host</th>      <td>   -0.1446</td> <td>    0.055</td> <td>   -2.622</td> <td> 0.009</td> <td>   -0.253</td> <td>   -0.037</td>\n",
       "</tr>\n",
       "<tr>\n",
       "  <th>minimum_nights</th>        <td>    0.0234</td> <td>    0.006</td> <td>    3.869</td> <td> 0.000</td> <td>    0.012</td> <td>    0.035</td>\n",
       "</tr>\n",
       "</table>\n",
       "<table class=\"simpletable\">\n",
       "<tr>\n",
       "  <th>Omnibus:</th>       <td>1009.762</td> <th>  Durbin-Watson:     </th> <td>   1.938</td>\n",
       "</tr>\n",
       "<tr>\n",
       "  <th>Prob(Omnibus):</th>  <td> 0.000</td>  <th>  Jarque-Bera (JB):  </th> <td>1532.389</td>\n",
       "</tr>\n",
       "<tr>\n",
       "  <th>Skew:</th>           <td> 1.117</td>  <th>  Prob(JB):          </th> <td>    0.00</td>\n",
       "</tr>\n",
       "<tr>\n",
       "  <th>Kurtosis:</th>       <td> 3.755</td>  <th>  Cond. No.          </th> <td>1.50e+03</td>\n",
       "</tr>\n",
       "</table>"
      ],
      "text/plain": [
       "<class 'statsmodels.iolib.summary.Summary'>\n",
       "\"\"\"\n",
       "                            OLS Regression Results                            \n",
       "==============================================================================\n",
       "Dep. Variable:        availability_30   R-squared:                       0.134\n",
       "Model:                            OLS   Adj. R-squared:                  0.133\n",
       "Method:                 Least Squares   F-statistic:                     85.16\n",
       "Date:                Thu, 22 Feb 2018   Prob (F-statistic):          7.04e-196\n",
       "Time:                        13:42:25   Log-Likelihood:                -23329.\n",
       "No. Observations:                6610   AIC:                         4.668e+04\n",
       "Df Residuals:                    6597   BIC:                         4.677e+04\n",
       "Df Model:                          12                                         \n",
       "Covariance Type:            nonrobust                                         \n",
       "=========================================================================================\n",
       "                            coef    std err          t      P>|t|      [0.025      0.975]\n",
       "-----------------------------------------------------------------------------------------\n",
       "const                    15.8569      1.454     10.907      0.000      13.007      18.707\n",
       "cancellation_recoded     -0.7561      0.138     -5.475      0.000      -1.027      -0.485\n",
       "room_type_recoded         2.7582      0.229     12.070      0.000       2.310       3.206\n",
       "property_type_recoded     0.5634      0.098      5.769      0.000       0.372       0.755\n",
       "response_recoded         -1.5656      0.073    -21.541      0.000      -1.708      -1.423\n",
       "review_scores_rating     -0.0873      0.015     -5.870      0.000      -0.116      -0.058\n",
       "host_is_superhost        -0.2082      0.254     -0.818      0.413      -0.707       0.291\n",
       "number_of_reviews        -0.0014      0.002     -0.679      0.497      -0.006       0.003\n",
       "accommodates              0.4723      0.085      5.579      0.000       0.306       0.638\n",
       "bathrooms                 0.4329      0.189      2.292      0.022       0.063       0.803\n",
       "bedrooms                 -0.8622      0.179     -4.823      0.000      -1.213      -0.512\n",
       "years_being_host         -0.1446      0.055     -2.622      0.009      -0.253      -0.037\n",
       "minimum_nights            0.0234      0.006      3.869      0.000       0.012       0.035\n",
       "==============================================================================\n",
       "Omnibus:                     1009.762   Durbin-Watson:                   1.938\n",
       "Prob(Omnibus):                  0.000   Jarque-Bera (JB):             1532.389\n",
       "Skew:                           1.117   Prob(JB):                         0.00\n",
       "Kurtosis:                       3.755   Cond. No.                     1.50e+03\n",
       "==============================================================================\n",
       "\n",
       "Warnings:\n",
       "[1] Standard Errors assume that the covariance matrix of the errors is correctly specified.\n",
       "[2] The condition number is large, 1.5e+03. This might indicate that there are\n",
       "strong multicollinearity or other numerical problems.\n",
       "\"\"\""
      ]
     },
     "execution_count": 608,
     "metadata": {},
     "output_type": "execute_result"
    }
   ],
   "source": [
    "y = data['availability_30']\n",
    "X = data[['cancellation_recoded', 'room_type_recoded', 'property_type_recoded', 'response_recoded', 'review_scores_rating', 'host_is_superhost','number_of_reviews','accommodates','bathrooms','bedrooms','years_being_host','minimum_nights']]\n",
    "X = sm.add_constant(X)\n",
    "model11 = sm.OLS(y, X).fit()\n",
    "model11.summary()"
   ]
  },
  {
   "cell_type": "markdown",
   "metadata": {
    "collapsed": true
   },
   "source": [
    "## Machine Learning Model: Supervised Categorical"
   ]
  },
  {
   "cell_type": "markdown",
   "metadata": {
    "collapsed": true
   },
   "source": [
    "The first set of predictive models are constructed on the relationship between certain variables and the price tier of the particular listing. With the now recoded data, I went about creating a list of predictive variables:\n",
    "<img src=\"listing_selection.png\" width = 1000px>\n",
    "\n",
    "A look at the listing information from the airbnb and airbnb listing information pages show that there are a few variables that are immediately present:\n",
    "- room_type\n",
    "- beds\n",
    "- name\n",
    "- price\n",
    "- cancellation_policy\n",
    "- review_scores_rating\n",
    "- host_is_superhost\n",
    "- neighbourhood\n",
    "\n",
    "I have thus taken this list of \"first impression\" variables and added \n",
    "The data columns I have chosen for this model are thus:\n",
    "- cancellation_recoded\n",
    "- room_type_recoded\n",
    "- property_type_recoded\n",
    "- response_recoded\n",
    "- beds\n",
    "- bathrooms\n",
    "- bedrooms\n",
    "- accommodates\n",
    "- review_scores_rating\n",
    "- host_is_superhost\n",
    "\n",
    "The target variable for testing is 'price_tiers' with the following code interpretation:\n",
    "- 1: Prices per bed ranging from 0-20, can be interpreted as the \"bargain\" tier\n",
    "- 2: Prices per bed ranging from 20-50, can be interpreted as the \"affordable\" tier\n",
    "- 3: Prices per bed ranging from 50-100, can be interpreted as the \"business\" tier\n",
    "- 4: Prices per bed ranging from 100-200, can be interpreted as the \"premium\" tier\n",
    "- 5: Prices per bed ranging from 200-10000, can be interpreted as the \"luxury\" tier\n",
    "\n",
    "My initial hypothesis was that there was a positive correlation between the feature variables chosen and the dependent variable. It is usually the larger premium homes that are able to accomodate more people and the number of beds, bathrooms, and bedrooms would be naturally higher for such homes as well. Such premium homes were thus likely to belong to a higher price tier, even when only considering price per bed. \n",
    "\n",
    "There could be an issue of some of the categories being somewhat misleading, especially cancellation_recoded as there wasn't necessarily a tiered relationship between the variables. Such problems could be solved with one hot encoding methods but to save RAM space and not take up too much memory, the current method was used. "
   ]
  },
  {
   "cell_type": "code",
   "execution_count": 609,
   "metadata": {},
   "outputs": [
    {
     "data": {
      "text/plain": [
       "4    2874\n",
       "3    2587\n",
       "5     666\n",
       "2     460\n",
       "1      23\n",
       "Name: price_tiers, dtype: int64"
      ]
     },
     "execution_count": 609,
     "metadata": {},
     "output_type": "execute_result"
    }
   ],
   "source": [
    "data['price_tiers'].value_counts()"
   ]
  },
  {
   "cell_type": "code",
   "execution_count": 610,
   "metadata": {
    "scrolled": true
   },
   "outputs": [
    {
     "data": {
      "text/html": [
       "<div>\n",
       "<style>\n",
       "    .dataframe thead tr:only-child th {\n",
       "        text-align: right;\n",
       "    }\n",
       "\n",
       "    .dataframe thead th {\n",
       "        text-align: left;\n",
       "    }\n",
       "\n",
       "    .dataframe tbody tr th {\n",
       "        vertical-align: top;\n",
       "    }\n",
       "</style>\n",
       "<table border=\"1\" class=\"dataframe\">\n",
       "  <thead>\n",
       "    <tr style=\"text-align: right;\">\n",
       "      <th></th>\n",
       "      <th>cancellation_recoded</th>\n",
       "      <th>room_type_recoded</th>\n",
       "      <th>property_type_recoded</th>\n",
       "      <th>response_recoded</th>\n",
       "      <th>beds</th>\n",
       "      <th>bathrooms</th>\n",
       "      <th>bedrooms</th>\n",
       "      <th>accommodates</th>\n",
       "      <th>review_scores_rating</th>\n",
       "      <th>host_is_superhost</th>\n",
       "    </tr>\n",
       "  </thead>\n",
       "  <tbody>\n",
       "    <tr>\n",
       "      <th>0</th>\n",
       "      <td>1</td>\n",
       "      <td>1</td>\n",
       "      <td>1</td>\n",
       "      <td>0</td>\n",
       "      <td>1</td>\n",
       "      <td>1.0</td>\n",
       "      <td>1</td>\n",
       "      <td>2</td>\n",
       "      <td>95</td>\n",
       "      <td>0</td>\n",
       "    </tr>\n",
       "    <tr>\n",
       "      <th>1</th>\n",
       "      <td>0</td>\n",
       "      <td>0</td>\n",
       "      <td>0</td>\n",
       "      <td>0</td>\n",
       "      <td>5</td>\n",
       "      <td>2.0</td>\n",
       "      <td>3</td>\n",
       "      <td>7</td>\n",
       "      <td>92</td>\n",
       "      <td>0</td>\n",
       "    </tr>\n",
       "    <tr>\n",
       "      <th>2</th>\n",
       "      <td>2</td>\n",
       "      <td>0</td>\n",
       "      <td>1</td>\n",
       "      <td>0</td>\n",
       "      <td>1</td>\n",
       "      <td>1.0</td>\n",
       "      <td>1</td>\n",
       "      <td>2</td>\n",
       "      <td>98</td>\n",
       "      <td>1</td>\n",
       "    </tr>\n",
       "    <tr>\n",
       "      <th>3</th>\n",
       "      <td>1</td>\n",
       "      <td>0</td>\n",
       "      <td>1</td>\n",
       "      <td>1</td>\n",
       "      <td>3</td>\n",
       "      <td>3.5</td>\n",
       "      <td>3</td>\n",
       "      <td>6</td>\n",
       "      <td>97</td>\n",
       "      <td>0</td>\n",
       "    </tr>\n",
       "    <tr>\n",
       "      <th>4</th>\n",
       "      <td>1</td>\n",
       "      <td>0</td>\n",
       "      <td>0</td>\n",
       "      <td>0</td>\n",
       "      <td>1</td>\n",
       "      <td>1.0</td>\n",
       "      <td>1</td>\n",
       "      <td>2</td>\n",
       "      <td>100</td>\n",
       "      <td>0</td>\n",
       "    </tr>\n",
       "  </tbody>\n",
       "</table>\n",
       "</div>"
      ],
      "text/plain": [
       "   cancellation_recoded  room_type_recoded  property_type_recoded  \\\n",
       "0                     1                  1                      1   \n",
       "1                     0                  0                      0   \n",
       "2                     2                  0                      1   \n",
       "3                     1                  0                      1   \n",
       "4                     1                  0                      0   \n",
       "\n",
       "   response_recoded  beds  bathrooms  bedrooms  accommodates  \\\n",
       "0                 0     1        1.0         1             2   \n",
       "1                 0     5        2.0         3             7   \n",
       "2                 0     1        1.0         1             2   \n",
       "3                 1     3        3.5         3             6   \n",
       "4                 0     1        1.0         1             2   \n",
       "\n",
       "   review_scores_rating  host_is_superhost  \n",
       "0                    95                  0  \n",
       "1                    92                  0  \n",
       "2                    98                  1  \n",
       "3                    97                  0  \n",
       "4                   100                  0  "
      ]
     },
     "execution_count": 610,
     "metadata": {},
     "output_type": "execute_result"
    }
   ],
   "source": [
    "#a new dataframe is created with the data used to predict the target variable \"price_tiers\"\n",
    "category_data = data[['cancellation_recoded', 'room_type_recoded', 'property_type_recoded', 'response_recoded', 'beds', 'bathrooms', 'bedrooms', 'accommodates', 'review_scores_rating', 'host_is_superhost']]\n",
    "category_data.head()"
   ]
  },
  {
   "cell_type": "markdown",
   "metadata": {},
   "source": [
    "**There is the constant issue of overfitting the data and I have learnt instances along to way of how to deal with overfitting. Some initial measures are to understand the training-test split proportion and the use of cross validation techniques.**\n",
    "\n",
    "Arguable the most important part of building a predictive model is deciding what kind of model to use. With limited experience in such models, I mostly deferred to articles on the web for more information.\n",
    "\n",
    "I looked at http://scikit-learn.org/stable/modules/ensemble.html for information regarding the ensemble module.\n",
    "I also looked at https://docs.microsoft.com/en-us/azure/machine-learning/studio/algorithm-choice and https://blog.socialcops.com/engineering/machine-learning-python/ for a beginner's guide to machine learning and the different types of models available.\n",
    "\n",
    "Having been an avid listener of the Data Skeptics podcast I had a basic idea of the underlying theory behind some of the models. For the variables that were chosen, I had initially expected a linear relationship. As explained above, my initial hypothesis was that the price tier of the listing will be higher if there were more rooms or it had a higher rating. It seemed like a decision tree classifier, neural network, and logistic regression were most applicable for the problem at hand. \n",
    "\n",
    "I also tried my hand at random forest classifier as it was a common model that prevents overfitting. From what I understood about random forest, it took subsets with randomly generated data and the results from the subset all \"voted\" towards a final result."
   ]
  },
  {
   "cell_type": "code",
   "execution_count": 611,
   "metadata": {},
   "outputs": [],
   "source": [
    "X = category_data\n",
    "y = data['price_tiers']\n",
    "\n",
    "#cross validation is a measure against overfitting. Overfitting means that we have mapped the model too well\n",
    "#to existing data and that it is likely not very useful for external, unseen data.\n",
    "#cross validation works by creating multiple training and testing sets splits, holding one test set for each \"fold\",\n",
    "#performing a test for that internal test set, and aggregating the results across the \"folds\"\n",
    "#train_test_split splits the data into a training set and a testing set. \n",
    "#The rationale behind this is to ensure that the model has \"unseen\" data to test on.\n",
    "X_train, X_test, y_train, y_test = cross_validation.train_test_split(X,y,test_size=0.3)"
   ]
  },
  {
   "cell_type": "code",
   "execution_count": 686,
   "metadata": {},
   "outputs": [],
   "source": [
    "#arrays to append all the results to\n",
    "models = []\n",
    "scores = []\n",
    "clf_dt = tree.DecisionTreeClassifier(max_depth=10)\n",
    "clf_dt.fit (X_train, y_train)\n",
    "clf_dt.score (X_test, y_test)\n",
    "models.append('Decision Tree')\n",
    "scores.append(clf_dt.score (X_test, y_test))"
   ]
  },
  {
   "cell_type": "code",
   "execution_count": 628,
   "metadata": {},
   "outputs": [],
   "source": [
    "clf_rf = ske.RandomForestClassifier(n_estimators=100)\n",
    "clf_rf.fit (X_train, y_train)\n",
    "clf_rf.score (X_test, y_test)\n",
    "models.append('Random Forest')\n",
    "scores.append(clf_rf.score (X_test, y_test))"
   ]
  },
  {
   "cell_type": "code",
   "execution_count": 630,
   "metadata": {},
   "outputs": [],
   "source": [
    "from sklearn.neural_network import MLPClassifier\n",
    "clf_nn = MLPClassifier(solver='adam', hidden_layer_sizes=(1000), )\n",
    "clf_nn.fit(X_train, y_train)\n",
    "clf_nn.score(X_test, y_test)\n",
    "models.append('Neural Network')\n",
    "scores.append(clf_nn.score (X_test, y_test))"
   ]
  },
  {
   "cell_type": "code",
   "execution_count": 631,
   "metadata": {},
   "outputs": [],
   "source": [
    "from sklearn.linear_model import LogisticRegression\n",
    "clf_lr = LogisticRegression()\n",
    "clf_lr.fit(X_train, y_train)\n",
    "clf_lr.score (X_test, y_test)\n",
    "models.append('Logistic Regression')\n",
    "scores.append(clf_lr.score (X_test, y_test))"
   ]
  },
  {
   "cell_type": "code",
   "execution_count": 639,
   "metadata": {},
   "outputs": [
    {
     "data": {
      "image/png": "[encoded data removed]",
      "text/plain": [
       "<matplotlib.figure.Figure at 0x1c1b6892b0>"
      ]
     },
     "metadata": {},
     "output_type": "display_data"
    }
   ],
   "source": [
    "fig=plt.figure()\n",
    "ax = fig.add_subplot(1,1,1)\n",
    "plt.bar(models,scores)\n",
    "plt.tight_layout()\n",
    "plt.title('Accuracy of Different Models')\n",
    "plt.ylabel('Accuracy')\n",
    "plt.xlabel('Model Type')\n",
    "plt.show()"
   ]
  },
  {
   "cell_type": "markdown",
   "metadata": {},
   "source": [
    "It seems that Decision Tree is the best model to be used in this case, with the highest accuracy out of the models chosen. The accuracy comes in at around 0.6, which admittedly isn't a high accuracy rate."
   ]
  },
  {
   "cell_type": "markdown",
   "metadata": {},
   "source": [
    "## Ways to Improve Model"
   ]
  },
  {
   "cell_type": "markdown",
   "metadata": {},
   "source": [
    "The final accuracy rate of 0.6 is certainly not ideal and more could be done to the model and the feature variables chosen to improve the results of the model. Here, I tried to recode neighborhood variables and include all given variables as feature variables to see if it improved the model under the decision tree model."
   ]
  },
  {
   "cell_type": "code",
   "execution_count": 616,
   "metadata": {},
   "outputs": [],
   "source": [
    "data['neighbourhood_codes']=data['neighbourhood'].astype('category')"
   ]
  },
  {
   "cell_type": "code",
   "execution_count": 617,
   "metadata": {},
   "outputs": [
    {
     "data": {
      "text/plain": [
       "category"
      ]
     },
     "execution_count": 617,
     "metadata": {},
     "output_type": "execute_result"
    }
   ],
   "source": [
    "data['neighbourhood_codes'].dtype"
   ]
  },
  {
   "cell_type": "code",
   "execution_count": 618,
   "metadata": {},
   "outputs": [],
   "source": [
    "data['neighbourhood_codes']=data['neighbourhood_codes'].cat.codes"
   ]
  },
  {
   "cell_type": "code",
   "execution_count": 619,
   "metadata": {},
   "outputs": [
    {
     "data": {
      "text/plain": [
       "0    43\n",
       "1    41\n",
       "2    41\n",
       "3    43\n",
       "4    41\n",
       "Name: neighbourhood_codes, dtype: int8"
      ]
     },
     "execution_count": 619,
     "metadata": {},
     "output_type": "execute_result"
    }
   ],
   "source": [
    "data['neighbourhood_codes'].head()"
   ]
  },
  {
   "cell_type": "code",
   "execution_count": 669,
   "metadata": {},
   "outputs": [],
   "source": [
    "category_data = data[['neighbourhood_codes', 'cancellation_recoded', 'room_type_recoded', 'property_type_recoded', 'response_recoded', 'beds', 'bathrooms', 'bedrooms', 'accommodates', 'review_scores_rating', 'host_is_superhost', 'host_listings_count', 'security_deposit', 'cleaning_fee', 'availability_30', 'availability_60', 'availability_90', 'availability_365', 'extra_people', 'years_being_host', 'review_scores_accuracy','review_scores_cleanliness','review_scores_checkin','review_scores_communication','review_scores_location','review_scores_value']]"
   ]
  },
  {
   "cell_type": "code",
   "execution_count": 670,
   "metadata": {
    "collapsed": true
   },
   "outputs": [],
   "source": [
    "X = category_data\n",
    "y = data['price_tiers']"
   ]
  },
  {
   "cell_type": "code",
   "execution_count": 684,
   "metadata": {
    "collapsed": true
   },
   "outputs": [],
   "source": [
    "models = []\n",
    "scores = []\n",
    "clf_dt = tree.DecisionTreeClassifier(max_depth=10)\n",
    "clf_dt.fit (X_train, y_train)\n",
    "clf_dt.score (X_test, y_test)\n",
    "models.append('Decision Tree')\n",
    "scores.append(clf_dt.score (X_test, y_test))"
   ]
  },
  {
   "cell_type": "code",
   "execution_count": 685,
   "metadata": {},
   "outputs": [
    {
     "data": {
      "text/plain": [
       "(['Decision Tree'], [0.60060514372163387])"
      ]
     },
     "execution_count": 685,
     "metadata": {},
     "output_type": "execute_result"
    }
   ],
   "source": [
    "models, scores"
   ]
  },
  {
   "cell_type": "markdown",
   "metadata": {},
   "source": [
    "However, as can be seen in the resulting score, the accuracy of the model remains around the 0.6 mark and the adding of the other variable did not seem to improve the accuracy of the model. The following are possible reasons why this is a poor model and what else could be done to improve the model:\n",
    "1. The neighbourhood category could be better categorized into larger geographical areas as there are many areas with barely any data where a neighbourhood like Mission dominates around 10% of the data. There is thus a class imbalance problem that could lead to biased results.\n",
    "2. The landing page for Airbnb includes the pictures of the listings as well and perhaps image recognition or color analysis could be conducted to find out if the type of picture boosted the model accuracy.\n",
    "3. Many of the categorical codes were rather simplistic with values ranging from 0 to 4 for example. The model might have taken the value of the categorical codes as values and weighted them accordingly. One hot encoding might have been a better option in terms of reducing this bias but for columns with too many categories this could lead to too many new columns and not enough RAM. A better understanding of individual variables and how they cluster together could help in narrowing down certain variables into more applicable categories. \n",
    "4. With the addition of additional variables, the current seemingly linear relationship might no longer hold and other models might become more useful. As my current knowledge of such models still remain limited, I would be better able to choose the model to use with a deeper understanding behind the running of different non-linear models.\n",
    "5. There is a heavy skewing of price data, with many being bucketed in tiers 3 and 4. This seems to be a class imbalance issue and perhaps the tier-ing of price could be done in a better way to fit with the decile values obtained of the data."
   ]
  },
  {
   "cell_type": "markdown",
   "metadata": {},
   "source": [
    "## Next Steps\n",
    "\n",
    "While this was certainly an interesting initial dive into using Python for machine learning, much should still be learned including and not limited to the following:\n",
    "1. Learning NLP to do sentiment analyses\n",
    "2. A familiarization with model theories and use cases\n",
    "3. A better use of data cleansing techniques to deal with outliers and categorizing variables\n",
    "4. A better understanding of other techniques to reduce overfitting including boosting or aggregating models\n",
    "5. Deepening domain knowledge to better categorize continuous variables and understand analytical results\n",
    "6. Diving into regression based supervised learning which could be an interesting alternative to determining price or availability of the listing\n",
    "7. Forming a more concrete and business specific model target for the next model\n",
    "\n",
    "Ultimately, this was definitely a fun experience launching head-first into learning Python and data science. It was a valuable experience that really highlighted the technical capability required of the models themselves and the domain knowledge and business creativity needed for selecting and cleaning feature variables. \n",
    "\n",
    "This is certainly just the start of the journey and I am definitely looking forward to tackling more of the areas of improvement previously mentioned!"
   ]
  }
 ],
 "metadata": {
  "kernelspec": {
   "display_name": "Python 3",
   "language": "python",
   "name": "python3"
  },
  "language_info": {
   "codemirror_mode": {
    "name": "ipython",
    "version": 3
   },
   "file_extension": ".py",
   "mimetype": "text/x-python",
   "name": "python",
   "nbconvert_exporter": "python",
   "pygments_lexer": "ipython3",
   "version": "3.6.3"
  }
 },
 "nbformat": 4,
 "nbformat_minor": 2
}
